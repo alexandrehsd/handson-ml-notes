{
 "cells": [
  {
   "cell_type": "markdown",
   "metadata": {},
   "source": [
    "# Chapter 10 - Introduction to Artificial Neural Networks with Keras"
   ]
  },
  {
   "cell_type": "markdown",
   "metadata": {},
   "source": [
    "## Building an Image Classifier using the sequential API"
   ]
  },
  {
   "cell_type": "markdown",
   "metadata": {},
   "source": [
    " In this chapter we will tackle Fashion MNIST, which is a drop-in replacement of MNIST (introduced in Chapter 3). It has the exact same format as MNIST (70,000 grayscale images of 28 × 28 pixels each, with 10 classes), but the images represent fashion items rather than handwritten digits, so each class is more diverse, and the problem turns out to be significantly more challenging than MNIST. For example, a simple linear model reaches about 92% accuracy on MNIST, but only about 83% on Fashion MNIST."
   ]
  },
  {
   "cell_type": "markdown",
   "metadata": {},
   "source": [
    "### Using Keras to Load the dataset"
   ]
  },
  {
   "cell_type": "code",
   "execution_count": 1,
   "metadata": {},
   "outputs": [
    {
     "name": "stderr",
     "output_type": "stream",
     "text": [
      "2021-11-10 20:43:39.013113: W tensorflow/stream_executor/platform/default/dso_loader.cc:64] Could not load dynamic library 'libcudart.so.11.0'; dlerror: libcudart.so.11.0: cannot open shared object file: No such file or directory\n",
      "2021-11-10 20:43:39.013141: I tensorflow/stream_executor/cuda/cudart_stub.cc:29] Ignore above cudart dlerror if you do not have a GPU set up on your machine.\n"
     ]
    }
   ],
   "source": [
    "import tensorflow as tf\n",
    "from tensorflow import keras"
   ]
  },
  {
   "cell_type": "code",
   "execution_count": 2,
   "metadata": {},
   "outputs": [],
   "source": [
    "fashion_mnist = keras.datasets.fashion_mnist\n",
    "(X_train_full, y_train_full), (X_test, y_test) = fashion_mnist.load_data()"
   ]
  },
  {
   "cell_type": "code",
   "execution_count": 3,
   "metadata": {},
   "outputs": [
    {
     "data": {
      "text/plain": [
       "(60000, 28, 28)"
      ]
     },
     "execution_count": 3,
     "metadata": {},
     "output_type": "execute_result"
    }
   ],
   "source": [
    "X_train_full.shape"
   ]
  },
  {
   "cell_type": "code",
   "execution_count": 4,
   "metadata": {},
   "outputs": [
    {
     "data": {
      "text/plain": [
       "dtype('uint8')"
      ]
     },
     "execution_count": 4,
     "metadata": {},
     "output_type": "execute_result"
    }
   ],
   "source": [
    "X_train_full.dtype # integer of 8 bits"
   ]
  },
  {
   "cell_type": "markdown",
   "metadata": {},
   "source": [
    "Note that we have a training set and test set but we don't have a validation set. Let's create one by sampling the training set. Moreover, we are going to use Gradient descent to train our neural network, therefore, it's important to scale the input features. "
   ]
  },
  {
   "cell_type": "code",
   "execution_count": 5,
   "metadata": {},
   "outputs": [],
   "source": [
    "X_valid, X_train = X_train_full[:5000] / 255.0, X_train_full[5000:] / 255.0\n",
    "y_valid, y_train = y_train_full[:5000], y_train_full[5000:]"
   ]
  },
  {
   "cell_type": "code",
   "execution_count": 6,
   "metadata": {},
   "outputs": [
    {
     "data": {
      "text/plain": [
       "((5000, 28, 28), (55000, 28, 28))"
      ]
     },
     "execution_count": 6,
     "metadata": {},
     "output_type": "execute_result"
    }
   ],
   "source": [
    "X_valid.shape, X_train.shape"
   ]
  },
  {
   "cell_type": "code",
   "execution_count": 7,
   "metadata": {},
   "outputs": [],
   "source": [
    "class_names = [\"T-shirt/top\", \"Trouser\", \"Pullover\", \"Dress\", \"Coat\", \n",
    "               \"Sandal\", \"Shirt\", \"Sneaker\", \"Bag\", \"Ankle boot\"]"
   ]
  },
  {
   "cell_type": "markdown",
   "metadata": {},
   "source": [
    "### Creating the model using the Sequential API"
   ]
  },
  {
   "cell_type": "markdown",
   "metadata": {},
   "source": [
    "Now let's build the Neural Network:"
   ]
  },
  {
   "cell_type": "code",
   "execution_count": 8,
   "metadata": {},
   "outputs": [
    {
     "name": "stderr",
     "output_type": "stream",
     "text": [
      "2021-11-10 20:43:41.736743: W tensorflow/stream_executor/platform/default/dso_loader.cc:64] Could not load dynamic library 'libcuda.so.1'; dlerror: libcuda.so.1: cannot open shared object file: No such file or directory\n",
      "2021-11-10 20:43:41.736765: W tensorflow/stream_executor/cuda/cuda_driver.cc:269] failed call to cuInit: UNKNOWN ERROR (303)\n",
      "2021-11-10 20:43:41.736782: I tensorflow/stream_executor/cuda/cuda_diagnostics.cc:156] kernel driver does not appear to be running on this host (BRSPOBITANL1634): /proc/driver/nvidia/version does not exist\n",
      "2021-11-10 20:43:41.736989: I tensorflow/core/platform/cpu_feature_guard.cc:151] This TensorFlow binary is optimized with oneAPI Deep Neural Network Library (oneDNN) to use the following CPU instructions in performance-critical operations:  AVX2 FMA\n",
      "To enable them in other operations, rebuild TensorFlow with the appropriate compiler flags.\n"
     ]
    }
   ],
   "source": [
    "model = keras.models.Sequential()\n",
    "model.add(keras.layers.Flatten(input_shape=[28, 28]))\n",
    "model.add(keras.layers.Dense(300, activation=\"relu\"))\n",
    "model.add(keras.layers.Dense(100, activation=\"relu\"))\n",
    "model.add(keras.layers.Dense(10,  activation=\"softmax\"))"
   ]
  },
  {
   "cell_type": "code",
   "execution_count": 9,
   "metadata": {},
   "outputs": [],
   "source": [
    "# Instead of adding the layers one by one as we just did, you can pass a list of\n",
    "# layers when creating the Sequential model:\n",
    "\n",
    "# model = keras.models.Sequential([\n",
    "#     keras.layers.Flatten(input_shape=[28, 28]),\n",
    "#     keras.layers.Dense(300, activation=\"relu\"),\n",
    "#     keras.layers.Dense(100, activation=\"relu\"),\n",
    "#     keras.layers.Dense(10, activation=\"softmax\")\n",
    "# ])"
   ]
  },
  {
   "cell_type": "code",
   "execution_count": 10,
   "metadata": {},
   "outputs": [
    {
     "name": "stdout",
     "output_type": "stream",
     "text": [
      "Model: \"sequential\"\n",
      "_________________________________________________________________\n",
      " Layer (type)                Output Shape              Param #   \n",
      "=================================================================\n",
      " flatten (Flatten)           (None, 784)               0         \n",
      "                                                                 \n",
      " dense (Dense)               (None, 300)               235500    \n",
      "                                                                 \n",
      " dense_1 (Dense)             (None, 100)               30100     \n",
      "                                                                 \n",
      " dense_2 (Dense)             (None, 10)                1010      \n",
      "                                                                 \n",
      "=================================================================\n",
      "Total params: 266,610\n",
      "Trainable params: 266,610\n",
      "Non-trainable params: 0\n",
      "_________________________________________________________________\n"
     ]
    }
   ],
   "source": [
    "model.summary()"
   ]
  },
  {
   "cell_type": "code",
   "execution_count": 11,
   "metadata": {},
   "outputs": [
    {
     "data": {
      "image/png": "[encoded data removed]",
      "text/plain": [
       "<IPython.core.display.Image object>"
      ]
     },
     "execution_count": 11,
     "metadata": {},
     "output_type": "execute_result"
    }
   ],
   "source": [
    "# Plot the model architecture\n",
    "keras.utils.plot_model(model, show_shapes=True)"
   ]
  },
  {
   "cell_type": "markdown",
   "metadata": {},
   "source": [
    "Note that Dense layers often have a lot of parameters. For example, the first hidden layer has 784 × 300 connection weights, plus 300 bias terms, which adds up to 235,500 parameters! This gives the model quite a lot of flexibility to fit the training data, but it also means that the model runs the risk of overfitting, especially when you do not have a lot of training data. We will come back to this later."
   ]
  },
  {
   "cell_type": "code",
   "execution_count": 12,
   "metadata": {},
   "outputs": [
    {
     "data": {
      "text/plain": [
       "[<keras.layers.core.flatten.Flatten at 0x7f4e7f24a310>,\n",
       " <keras.layers.core.dense.Dense at 0x7f4e7f22d2e0>,\n",
       " <keras.layers.core.dense.Dense at 0x7f4e64655610>,\n",
       " <keras.layers.core.dense.Dense at 0x7f4e64644100>]"
      ]
     },
     "execution_count": 12,
     "metadata": {},
     "output_type": "execute_result"
    }
   ],
   "source": [
    "# Get a list of the layers in the model\n",
    "model.layers"
   ]
  },
  {
   "cell_type": "code",
   "execution_count": 13,
   "metadata": {},
   "outputs": [
    {
     "data": {
      "text/plain": [
       "'dense'"
      ]
     },
     "execution_count": 13,
     "metadata": {},
     "output_type": "execute_result"
    }
   ],
   "source": [
    "hidden1 = model.layers[1]\n",
    "hidden1.name"
   ]
  },
  {
   "cell_type": "code",
   "execution_count": 14,
   "metadata": {},
   "outputs": [
    {
     "data": {
      "text/plain": [
       "True"
      ]
     },
     "execution_count": 14,
     "metadata": {},
     "output_type": "execute_result"
    }
   ],
   "source": [
    "model.get_layer('dense') is hidden1"
   ]
  },
  {
   "cell_type": "code",
   "execution_count": 15,
   "metadata": {},
   "outputs": [
    {
     "data": {
      "text/plain": [
       "array([[-0.01783208, -0.04373231, -0.02053657, ..., -0.06092882,\n",
       "         0.0213417 ,  0.03850042],\n",
       "       [ 0.01686455, -0.03968325,  0.07001184, ..., -0.02412705,\n",
       "         0.01610482, -0.0126189 ],\n",
       "       [ 0.01944982, -0.02369584,  0.01505208, ..., -0.01251258,\n",
       "        -0.00998187, -0.07377874],\n",
       "       ...,\n",
       "       [-0.04447377,  0.04783802,  0.01746325, ...,  0.02742508,\n",
       "        -0.00407016, -0.06168044],\n",
       "       [ 0.0660505 ,  0.01722207, -0.04876888, ...,  0.02701766,\n",
       "        -0.06200751, -0.01343767],\n",
       "       [ 0.01119303, -0.05989318,  0.02258007, ...,  0.07009605,\n",
       "        -0.02129564,  0.01094116]], dtype=float32)"
      ]
     },
     "execution_count": 15,
     "metadata": {},
     "output_type": "execute_result"
    }
   ],
   "source": [
    "# Access all the parameters of a model\n",
    "weights, biases = hidden1.get_weights()\n",
    "weights"
   ]
  },
  {
   "cell_type": "code",
   "execution_count": 16,
   "metadata": {},
   "outputs": [
    {
     "data": {
      "text/plain": [
       "(784, 300)"
      ]
     },
     "execution_count": 16,
     "metadata": {},
     "output_type": "execute_result"
    }
   ],
   "source": [
    "weights.shape"
   ]
  },
  {
   "cell_type": "code",
   "execution_count": 17,
   "metadata": {},
   "outputs": [
    {
     "data": {
      "text/plain": [
       "array([0., 0., 0., 0., 0., 0., 0., 0., 0., 0., 0., 0., 0., 0., 0., 0., 0.,\n",
       "       0., 0., 0., 0., 0., 0., 0., 0., 0., 0., 0., 0., 0., 0., 0., 0., 0.,\n",
       "       0., 0., 0., 0., 0., 0., 0., 0., 0., 0., 0., 0., 0., 0., 0., 0., 0.,\n",
       "       0., 0., 0., 0., 0., 0., 0., 0., 0., 0., 0., 0., 0., 0., 0., 0., 0.,\n",
       "       0., 0., 0., 0., 0., 0., 0., 0., 0., 0., 0., 0., 0., 0., 0., 0., 0.,\n",
       "       0., 0., 0., 0., 0., 0., 0., 0., 0., 0., 0., 0., 0., 0., 0., 0., 0.,\n",
       "       0., 0., 0., 0., 0., 0., 0., 0., 0., 0., 0., 0., 0., 0., 0., 0., 0.,\n",
       "       0., 0., 0., 0., 0., 0., 0., 0., 0., 0., 0., 0., 0., 0., 0., 0., 0.,\n",
       "       0., 0., 0., 0., 0., 0., 0., 0., 0., 0., 0., 0., 0., 0., 0., 0., 0.,\n",
       "       0., 0., 0., 0., 0., 0., 0., 0., 0., 0., 0., 0., 0., 0., 0., 0., 0.,\n",
       "       0., 0., 0., 0., 0., 0., 0., 0., 0., 0., 0., 0., 0., 0., 0., 0., 0.,\n",
       "       0., 0., 0., 0., 0., 0., 0., 0., 0., 0., 0., 0., 0., 0., 0., 0., 0.,\n",
       "       0., 0., 0., 0., 0., 0., 0., 0., 0., 0., 0., 0., 0., 0., 0., 0., 0.,\n",
       "       0., 0., 0., 0., 0., 0., 0., 0., 0., 0., 0., 0., 0., 0., 0., 0., 0.,\n",
       "       0., 0., 0., 0., 0., 0., 0., 0., 0., 0., 0., 0., 0., 0., 0., 0., 0.,\n",
       "       0., 0., 0., 0., 0., 0., 0., 0., 0., 0., 0., 0., 0., 0., 0., 0., 0.,\n",
       "       0., 0., 0., 0., 0., 0., 0., 0., 0., 0., 0., 0., 0., 0., 0., 0., 0.,\n",
       "       0., 0., 0., 0., 0., 0., 0., 0., 0., 0., 0.], dtype=float32)"
      ]
     },
     "execution_count": 17,
     "metadata": {},
     "output_type": "execute_result"
    }
   ],
   "source": [
    "biases"
   ]
  },
  {
   "cell_type": "code",
   "execution_count": 18,
   "metadata": {},
   "outputs": [
    {
     "data": {
      "text/plain": [
       "(300,)"
      ]
     },
     "execution_count": 18,
     "metadata": {},
     "output_type": "execute_result"
    }
   ],
   "source": [
    "biases.shape"
   ]
  },
  {
   "cell_type": "markdown",
   "metadata": {},
   "source": [
    "#### Compiling the model"
   ]
  },
  {
   "cell_type": "markdown",
   "metadata": {},
   "source": [
    "After a model is created, you must call its *compile()* method to specify the loss function and the optimizer to use. Optionally, you can specify a list of extra metrics to compute during training and evaluation:"
   ]
  },
  {
   "cell_type": "code",
   "execution_count": 19,
   "metadata": {},
   "outputs": [],
   "source": [
    "model.compile(loss=\"sparse_categorical_crossentropy\", \n",
    "              optimizer=\"sgd\", \n",
    "              metrics=[\"accuracy\"])\n",
    "\n",
    "# Default learning Rate of \"sgd\" optimizer = 0.01"
   ]
  },
  {
   "cell_type": "markdown",
   "metadata": {},
   "source": [
    "#### training and evaluating the model"
   ]
  },
  {
   "cell_type": "code",
   "execution_count": 20,
   "metadata": {},
   "outputs": [
    {
     "name": "stdout",
     "output_type": "stream",
     "text": [
      "Epoch 1/30\n",
      "1719/1719 [==============================] - 3s 2ms/step - loss: 0.7310 - accuracy: 0.7576 - val_loss: 0.5009 - val_accuracy: 0.8332\n",
      "Epoch 2/30\n",
      "1719/1719 [==============================] - 3s 1ms/step - loss: 0.4928 - accuracy: 0.8288 - val_loss: 0.5132 - val_accuracy: 0.8174\n",
      "Epoch 3/30\n",
      "1719/1719 [==============================] - 3s 1ms/step - loss: 0.4453 - accuracy: 0.8437 - val_loss: 0.4138 - val_accuracy: 0.8590\n",
      "Epoch 4/30\n",
      "1719/1719 [==============================] - 3s 1ms/step - loss: 0.4170 - accuracy: 0.8544 - val_loss: 0.4110 - val_accuracy: 0.8600\n",
      "Epoch 5/30\n",
      "1719/1719 [==============================] - 3s 1ms/step - loss: 0.3957 - accuracy: 0.8619 - val_loss: 0.4143 - val_accuracy: 0.8516\n",
      "Epoch 6/30\n",
      "1719/1719 [==============================] - 3s 2ms/step - loss: 0.3790 - accuracy: 0.8663 - val_loss: 0.3850 - val_accuracy: 0.8668\n",
      "Epoch 7/30\n",
      "1719/1719 [==============================] - 3s 1ms/step - loss: 0.3663 - accuracy: 0.8703 - val_loss: 0.3715 - val_accuracy: 0.8702\n",
      "Epoch 8/30\n",
      "1719/1719 [==============================] - 3s 2ms/step - loss: 0.3553 - accuracy: 0.8738 - val_loss: 0.3686 - val_accuracy: 0.8702\n",
      "Epoch 9/30\n",
      "1719/1719 [==============================] - 3s 1ms/step - loss: 0.3440 - accuracy: 0.8773 - val_loss: 0.3505 - val_accuracy: 0.8774\n",
      "Epoch 10/30\n",
      "1719/1719 [==============================] - 3s 1ms/step - loss: 0.3339 - accuracy: 0.8814 - val_loss: 0.3476 - val_accuracy: 0.8796\n",
      "Epoch 11/30\n",
      "1719/1719 [==============================] - 3s 1ms/step - loss: 0.3256 - accuracy: 0.8838 - val_loss: 0.3428 - val_accuracy: 0.8804\n",
      "Epoch 12/30\n",
      "1719/1719 [==============================] - 2s 1ms/step - loss: 0.3180 - accuracy: 0.8866 - val_loss: 0.3500 - val_accuracy: 0.8756\n",
      "Epoch 13/30\n",
      "1719/1719 [==============================] - 3s 1ms/step - loss: 0.3104 - accuracy: 0.8898 - val_loss: 0.3294 - val_accuracy: 0.8830\n",
      "Epoch 14/30\n",
      "1719/1719 [==============================] - 3s 2ms/step - loss: 0.3028 - accuracy: 0.8918 - val_loss: 0.3396 - val_accuracy: 0.8784\n",
      "Epoch 15/30\n",
      "1719/1719 [==============================] - 3s 1ms/step - loss: 0.2964 - accuracy: 0.8940 - val_loss: 0.3295 - val_accuracy: 0.8804\n",
      "Epoch 16/30\n",
      "1719/1719 [==============================] - 2s 1ms/step - loss: 0.2907 - accuracy: 0.8947 - val_loss: 0.3235 - val_accuracy: 0.8864\n",
      "Epoch 17/30\n",
      "1719/1719 [==============================] - 3s 1ms/step - loss: 0.2837 - accuracy: 0.8972 - val_loss: 0.3150 - val_accuracy: 0.8856\n",
      "Epoch 18/30\n",
      "1719/1719 [==============================] - 2s 1ms/step - loss: 0.2788 - accuracy: 0.8993 - val_loss: 0.3139 - val_accuracy: 0.8876\n",
      "Epoch 19/30\n",
      "1719/1719 [==============================] - 2s 1ms/step - loss: 0.2735 - accuracy: 0.9005 - val_loss: 0.3179 - val_accuracy: 0.8856\n",
      "Epoch 20/30\n",
      "1719/1719 [==============================] - 2s 1ms/step - loss: 0.2690 - accuracy: 0.9033 - val_loss: 0.3225 - val_accuracy: 0.8872\n",
      "Epoch 21/30\n",
      "1719/1719 [==============================] - 3s 1ms/step - loss: 0.2641 - accuracy: 0.9044 - val_loss: 0.3194 - val_accuracy: 0.8852\n",
      "Epoch 22/30\n",
      "1719/1719 [==============================] - 2s 1ms/step - loss: 0.2589 - accuracy: 0.9066 - val_loss: 0.3175 - val_accuracy: 0.8868\n",
      "Epoch 23/30\n",
      "1719/1719 [==============================] - 2s 1ms/step - loss: 0.2552 - accuracy: 0.9078 - val_loss: 0.3090 - val_accuracy: 0.8870\n",
      "Epoch 24/30\n",
      "1719/1719 [==============================] - 3s 1ms/step - loss: 0.2509 - accuracy: 0.9091 - val_loss: 0.3025 - val_accuracy: 0.8924\n",
      "Epoch 25/30\n",
      "1719/1719 [==============================] - 3s 1ms/step - loss: 0.2470 - accuracy: 0.9109 - val_loss: 0.3058 - val_accuracy: 0.8896\n",
      "Epoch 26/30\n",
      "1719/1719 [==============================] - 3s 1ms/step - loss: 0.2425 - accuracy: 0.9128 - val_loss: 0.3051 - val_accuracy: 0.8890\n",
      "Epoch 27/30\n",
      "1719/1719 [==============================] - 3s 1ms/step - loss: 0.2387 - accuracy: 0.9139 - val_loss: 0.3172 - val_accuracy: 0.8842\n",
      "Epoch 28/30\n",
      "1719/1719 [==============================] - 2s 1ms/step - loss: 0.2345 - accuracy: 0.9162 - val_loss: 0.3036 - val_accuracy: 0.8918\n",
      "Epoch 29/30\n",
      "1719/1719 [==============================] - 3s 1ms/step - loss: 0.2306 - accuracy: 0.9155 - val_loss: 0.3100 - val_accuracy: 0.8882\n",
      "Epoch 30/30\n",
      "1719/1719 [==============================] - 3s 2ms/step - loss: 0.2270 - accuracy: 0.9159 - val_loss: 0.2942 - val_accuracy: 0.8928\n"
     ]
    }
   ],
   "source": [
    "history = model.fit(X_train, y_train, \n",
    "                    epochs=30, validation_data=(X_valid, y_valid))\n",
    "\n",
    "# Default Batch Size = 32 instances, which, in this case means \n",
    "# that an epoch will run 1719 batches of 32 pictures. "
   ]
  },
  {
   "cell_type": "markdown",
   "metadata": {},
   "source": [
    "The *fit()* method returns a History object containing the training parameters (*history.params*), the list of epochs it went through (*history.epoch*), and most importantly a dictionary (*history.history*) containing the loss and extra metrics it measured at the end of each epoch on the training set and on the validation set (if any). If you use this dictionary to create a pandas DataFrame and call its *plot()* method, you get the learning curves:"
   ]
  },
  {
   "cell_type": "code",
   "execution_count": 21,
   "metadata": {},
   "outputs": [
    {
     "data": {
      "text/plain": [
       "{'verbose': 1, 'epochs': 30, 'steps': 1719}"
      ]
     },
     "execution_count": 21,
     "metadata": {},
     "output_type": "execute_result"
    }
   ],
   "source": [
    "history.params"
   ]
  },
  {
   "cell_type": "code",
   "execution_count": 22,
   "metadata": {},
   "outputs": [
    {
     "name": "stdout",
     "output_type": "stream",
     "text": [
      "[0, 1, 2, 3, 4, 5, 6, 7, 8, 9, 10, 11, 12, 13, 14, 15, 16, 17, 18, 19, 20, 21, 22, 23, 24, 25, 26, 27, 28, 29]\n"
     ]
    }
   ],
   "source": [
    "print(history.epoch)"
   ]
  },
  {
   "cell_type": "code",
   "execution_count": 23,
   "metadata": {},
   "outputs": [
    {
     "data": {
      "text/plain": [
       "dict_keys(['loss', 'accuracy', 'val_loss', 'val_accuracy'])"
      ]
     },
     "execution_count": 23,
     "metadata": {},
     "output_type": "execute_result"
    }
   ],
   "source": [
    "history.history.keys()"
   ]
  },
  {
   "cell_type": "code",
   "execution_count": 24,
   "metadata": {},
   "outputs": [
    {
     "data": {
      "image/png": "[encoded data removed]",
      "text/plain": [
       "<Figure size 576x360 with 1 Axes>"
      ]
     },
     "metadata": {
      "needs_background": "light"
     },
     "output_type": "display_data"
    }
   ],
   "source": [
    "import pandas as pd\n",
    "import matplotlib.pyplot as plt\n",
    "\n",
    "pd.DataFrame(history.history).plot(figsize=(8, 5))\n",
    "plt.grid(True)\n",
    "plt.gca().set_ylim(0, 1) # Set the vertical range to [0-1]\n",
    "plt.show()"
   ]
  },
  {
   "cell_type": "markdown",
   "metadata": {},
   "source": [
    "In this particular case, the model looks like it performed better on the validation set than on the training set at the beginning of training. But that’s not the case: indeed, the validation error is computed at the end of each epoch, while the training error is computed using a running mean during each epoch. So the training curve should be shifted by half an epoch to the left. If you do that, you will see that the training and validation curves overlap almost perfectly at the beginning of training."
   ]
  },
  {
   "cell_type": "markdown",
   "metadata": {},
   "source": [
    "#### Evaluate the model"
   ]
  },
  {
   "cell_type": "markdown",
   "metadata": {},
   "source": [
    "To check the general performance of your model, run it against the test set with *evaluate()*:"
   ]
  },
  {
   "cell_type": "code",
   "execution_count": 25,
   "metadata": {},
   "outputs": [
    {
     "name": "stdout",
     "output_type": "stream",
     "text": [
      "313/313 [==============================] - 0s 1ms/step - loss: 53.9514 - accuracy: 0.8583\n"
     ]
    },
    {
     "data": {
      "text/plain": [
       "[53.95135498046875, 0.858299970626831]"
      ]
     },
     "execution_count": 25,
     "metadata": {},
     "output_type": "execute_result"
    }
   ],
   "source": [
    "model.evaluate(X_test, y_test)"
   ]
  },
  {
   "cell_type": "markdown",
   "metadata": {},
   "source": [
    "#### Using the model to make predictions"
   ]
  },
  {
   "cell_type": "code",
   "execution_count": 26,
   "metadata": {},
   "outputs": [
    {
     "data": {
      "text/plain": [
       "array([[0., 0., 0., 0., 0., 0., 0., 0., 0., 1.],\n",
       "       [0., 0., 1., 0., 0., 0., 0., 0., 0., 0.],\n",
       "       [0., 1., 0., 0., 0., 0., 0., 0., 0., 0.],\n",
       "       [0., 1., 0., 0., 0., 0., 0., 0., 0., 0.],\n",
       "       [0., 0., 0., 0., 0., 0., 1., 0., 0., 0.]], dtype=float32)"
      ]
     },
     "execution_count": 26,
     "metadata": {},
     "output_type": "execute_result"
    }
   ],
   "source": [
    "X_new = X_test[:5]\n",
    "y_proba = model.predict(X_new)\n",
    "y_proba.round(2)"
   ]
  },
  {
   "cell_type": "code",
   "execution_count": 27,
   "metadata": {},
   "outputs": [
    {
     "data": {
      "text/plain": [
       "array([9, 2, 1, 1, 6], dtype=uint8)"
      ]
     },
     "execution_count": 27,
     "metadata": {},
     "output_type": "execute_result"
    }
   ],
   "source": [
    "y_new = y_test[:5]\n",
    "y_new"
   ]
  },
  {
   "cell_type": "code",
   "execution_count": 28,
   "metadata": {},
   "outputs": [
    {
     "data": {
      "text/plain": [
       "array([9, 2, 1, 1, 6])"
      ]
     },
     "execution_count": 28,
     "metadata": {},
     "output_type": "execute_result"
    }
   ],
   "source": [
    "import numpy as np\n",
    "y_pred = np.argmax(model.predict(X_new), axis=-1)\n",
    "y_pred"
   ]
  },
  {
   "cell_type": "code",
   "execution_count": 29,
   "metadata": {},
   "outputs": [
    {
     "data": {
      "text/plain": [
       "array(['Ankle boot', 'Pullover', 'Trouser', 'Trouser', 'Shirt'],\n",
       "      dtype='<U11')"
      ]
     },
     "execution_count": 29,
     "metadata": {},
     "output_type": "execute_result"
    }
   ],
   "source": [
    "np.array(class_names)[y_pred]"
   ]
  },
  {
   "cell_type": "markdown",
   "metadata": {},
   "source": [
    "### Building a Regression MLP using the sequential API"
   ]
  },
  {
   "cell_type": "code",
   "execution_count": 30,
   "metadata": {},
   "outputs": [],
   "source": [
    "from sklearn.datasets import fetch_california_housing\n",
    "from sklearn.model_selection import train_test_split\n",
    "from sklearn.preprocessing import StandardScaler\n",
    "\n",
    "# Here, we are using the California housing dataset from chapter 02\n",
    "# except that this one does not contain the categorical variable \"ocean_proximity\"\n",
    "# and there is no missing value\n",
    "housing = fetch_california_housing()"
   ]
  },
  {
   "cell_type": "code",
   "execution_count": 31,
   "metadata": {},
   "outputs": [],
   "source": [
    "X_train_full, X_test, y_train_full, y_test = train_test_split(housing.data, housing.target)\n",
    "X_train, X_valid, y_train, y_valid = train_test_split(X_train_full, y_train_full)"
   ]
  },
  {
   "cell_type": "code",
   "execution_count": 32,
   "metadata": {},
   "outputs": [],
   "source": [
    "# Since we are using SGD, we must standardize the data\n",
    "scaler = StandardScaler()\n",
    "X_train = scaler.fit_transform(X_train)\n",
    "X_valid = scaler.transform(X_valid)\n",
    "X_test = scaler.transform(X_test)"
   ]
  },
  {
   "cell_type": "markdown",
   "metadata": {},
   "source": [
    "#### Using the Sequential API"
   ]
  },
  {
   "cell_type": "code",
   "execution_count": 33,
   "metadata": {},
   "outputs": [
    {
     "data": {
      "text/plain": [
       "(11610, 8)"
      ]
     },
     "execution_count": 33,
     "metadata": {},
     "output_type": "execute_result"
    }
   ],
   "source": [
    "X_train.shape"
   ]
  },
  {
   "cell_type": "code",
   "execution_count": 34,
   "metadata": {},
   "outputs": [
    {
     "name": "stdout",
     "output_type": "stream",
     "text": [
      "Epoch 1/20\n",
      "363/363 [==============================] - 1s 953us/step - loss: 3.0805 - val_loss: 0.4864\n",
      "Epoch 2/20\n",
      "363/363 [==============================] - 0s 759us/step - loss: 0.4948 - val_loss: 0.4094\n",
      "Epoch 3/20\n",
      "363/363 [==============================] - 0s 902us/step - loss: 0.4139 - val_loss: 0.3951\n",
      "Epoch 4/20\n",
      "363/363 [==============================] - 0s 796us/step - loss: 0.4054 - val_loss: 0.3882\n",
      "Epoch 5/20\n",
      "363/363 [==============================] - 0s 764us/step - loss: 0.3865 - val_loss: 0.3715\n",
      "Epoch 6/20\n",
      "363/363 [==============================] - 0s 759us/step - loss: 0.3765 - val_loss: 0.3666\n",
      "Epoch 7/20\n",
      "363/363 [==============================] - 0s 902us/step - loss: 0.3751 - val_loss: 0.3803\n",
      "Epoch 8/20\n",
      "363/363 [==============================] - 0s 772us/step - loss: 0.3735 - val_loss: 0.3626\n",
      "Epoch 9/20\n",
      "363/363 [==============================] - 0s 770us/step - loss: 0.3683 - val_loss: 0.3596\n",
      "Epoch 10/20\n",
      "363/363 [==============================] - 0s 781us/step - loss: 0.3646 - val_loss: 0.3561\n",
      "Epoch 11/20\n",
      "363/363 [==============================] - 0s 785us/step - loss: 0.3610 - val_loss: 0.3562\n",
      "Epoch 12/20\n",
      "363/363 [==============================] - 0s 774us/step - loss: 0.3690 - val_loss: 0.3688\n",
      "Epoch 13/20\n",
      "363/363 [==============================] - 0s 764us/step - loss: 0.3601 - val_loss: 0.3551\n",
      "Epoch 14/20\n",
      "363/363 [==============================] - 0s 779us/step - loss: 0.3567 - val_loss: 0.3499\n",
      "Epoch 15/20\n",
      "363/363 [==============================] - 0s 770us/step - loss: 0.3518 - val_loss: 0.3478\n",
      "Epoch 16/20\n",
      "363/363 [==============================] - 0s 768us/step - loss: 0.3514 - val_loss: 0.3456\n",
      "Epoch 17/20\n",
      "363/363 [==============================] - 0s 766us/step - loss: 0.3495 - val_loss: 0.3522\n",
      "Epoch 18/20\n",
      "363/363 [==============================] - 0s 768us/step - loss: 0.3480 - val_loss: 0.3436\n",
      "Epoch 19/20\n",
      "363/363 [==============================] - 0s 764us/step - loss: 0.3517 - val_loss: 0.3517\n",
      "Epoch 20/20\n",
      "363/363 [==============================] - 0s 767us/step - loss: 0.3475 - val_loss: 0.3435\n"
     ]
    }
   ],
   "source": [
    "model = keras.models.Sequential([\n",
    "    keras.layers.Dense(30, activation=\"relu\", input_shape=X_train.shape[1:]),\n",
    "    keras.layers.Dense(1)\n",
    "])\n",
    "model.compile(loss=\"mean_squared_error\", optimizer=\"sgd\")\n",
    "history = model.fit(X_train, y_train, epochs=20, validation_data=(X_valid, y_valid))"
   ]
  },
  {
   "cell_type": "code",
   "execution_count": 35,
   "metadata": {},
   "outputs": [
    {
     "name": "stdout",
     "output_type": "stream",
     "text": [
      "162/162 [==============================] - 0s 553us/step - loss: 0.3633\n"
     ]
    }
   ],
   "source": [
    "mse_test = model.evaluate(X_test, y_test)"
   ]
  },
  {
   "cell_type": "code",
   "execution_count": 36,
   "metadata": {},
   "outputs": [
    {
     "name": "stdout",
     "output_type": "stream",
     "text": [
      "[4.698 1.838 0.936 3.248 1.813]\n",
      "[4.2197647 1.3070102 1.1667006 3.5259125 2.1959054]\n"
     ]
    }
   ],
   "source": [
    "X_new = X_test[:5]\n",
    "y_pred = model.predict(X_new)\n",
    "print(y_test[:5])\n",
    "print(y_pred.reshape(5))"
   ]
  },
  {
   "cell_type": "markdown",
   "metadata": {},
   "source": [
    "## Building complex models using the functional API"
   ]
  },
  {
   "cell_type": "markdown",
   "metadata": {},
   "source": [
    "So far, we've developed our models using the **Sequential API**, where we stack layer by layer passing the input shape, number of neurons, loss function, activation function, optimizers and evaluation metric.\n",
    "\n",
    "However, there are other options on building your own neural network with a custom architecture. Now let's talk about the **Functional API**. \n",
    "\n",
    "One example of a nonsequential neural network is a Wide & Deep neural network. This neural network architecture was introduced in a 2016 paper by Heng-Tze Cheng et al. (Heng-Tze Cheng et al., “Wide & Deep Learning for Recommender Systems,” Proceedings of the First Workshop on Deep Learning for Recommender Systems (2016): 7–10.)\n",
    "\n",
    "![wide_deep_nn](./images/ch10_wide_deep_nn.png)\n",
    "\n",
    "This architecture makes it possible for the neural network to learn both deep patterns (using the deep path) and simple rules (through the short/wide path)."
   ]
  },
  {
   "cell_type": "markdown",
   "metadata": {},
   "source": [
    "Let's build such a NN using the functional approach:"
   ]
  },
  {
   "cell_type": "code",
   "execution_count": 37,
   "metadata": {},
   "outputs": [],
   "source": [
    "input_ = keras.layers.Input(shape=X_train.shape[1:])\n",
    "hidden1 = keras.layers.Dense(30, activation=\"relu\")(input_)\n",
    "hidden2 = keras.layers.Dense(30, activation=\"relu\")(hidden1)\n",
    "concat = keras.layers.Concatenate()([input_, hidden2])\n",
    "output = keras.layers.Dense(1)(concat)\n",
    "model = keras.Model(inputs=[input_], outputs=[output])"
   ]
  },
  {
   "cell_type": "markdown",
   "metadata": {},
   "source": [
    "Notice that we indicate which layer will be the input of another calling it like a function, passing it the input. This is why this is called the Functional API. Note that we are just telling Keras how it should connect the layers together; no actual data is being processed yet.\n",
    "\n",
    "Once you have built the Keras model, everything is exactly like earlier, so there’s no need to repeat it here: you must compile the model, train it, evaluate it, and use it to make predictions."
   ]
  },
  {
   "cell_type": "code",
   "execution_count": 38,
   "metadata": {},
   "outputs": [
    {
     "name": "stdout",
     "output_type": "stream",
     "text": [
      "Epoch 1/20\n"
     ]
    },
    {
     "name": "stderr",
     "output_type": "stream",
     "text": [
      "/home/alexandre/Documents/git/handson-ml-notes/handsonml2-env/lib/python3.8/site-packages/keras/optimizer_v2/gradient_descent.py:102: UserWarning: The `lr` argument is deprecated, use `learning_rate` instead.\n",
      "  super(SGD, self).__init__(name, **kwargs)\n"
     ]
    },
    {
     "name": "stdout",
     "output_type": "stream",
     "text": [
      "363/363 [==============================] - 1s 1ms/step - loss: 1.4335 - val_loss: 0.7067\n",
      "Epoch 2/20\n",
      "363/363 [==============================] - 0s 813us/step - loss: 0.6753 - val_loss: 0.6450\n",
      "Epoch 3/20\n",
      "363/363 [==============================] - 0s 892us/step - loss: 0.6352 - val_loss: 0.6166\n",
      "Epoch 4/20\n",
      "363/363 [==============================] - 0s 926us/step - loss: 0.6070 - val_loss: 0.5970\n",
      "Epoch 5/20\n",
      "363/363 [==============================] - 0s 836us/step - loss: 0.5878 - val_loss: 0.5796\n",
      "Epoch 6/20\n",
      "363/363 [==============================] - 0s 810us/step - loss: 0.5726 - val_loss: 0.5669\n",
      "Epoch 7/20\n",
      "363/363 [==============================] - 0s 849us/step - loss: 0.5596 - val_loss: 0.5552\n",
      "Epoch 8/20\n",
      "363/363 [==============================] - 0s 831us/step - loss: 0.5489 - val_loss: 0.5463\n",
      "Epoch 9/20\n",
      "363/363 [==============================] - 0s 862us/step - loss: 0.5389 - val_loss: 0.5390\n",
      "Epoch 10/20\n",
      "363/363 [==============================] - 0s 855us/step - loss: 0.5322 - val_loss: 0.5316\n",
      "Epoch 11/20\n",
      "363/363 [==============================] - 0s 829us/step - loss: 0.5250 - val_loss: 0.5247\n",
      "Epoch 12/20\n",
      "363/363 [==============================] - 0s 834us/step - loss: 0.5192 - val_loss: 0.5211\n",
      "Epoch 13/20\n",
      "363/363 [==============================] - 0s 819us/step - loss: 0.5134 - val_loss: 0.5155\n",
      "Epoch 14/20\n",
      "363/363 [==============================] - 0s 815us/step - loss: 0.5089 - val_loss: 0.5109\n",
      "Epoch 15/20\n",
      "363/363 [==============================] - 0s 825us/step - loss: 0.5048 - val_loss: 0.5079\n",
      "Epoch 16/20\n",
      "363/363 [==============================] - 0s 821us/step - loss: 0.4997 - val_loss: 0.5027\n",
      "Epoch 17/20\n",
      "363/363 [==============================] - 0s 823us/step - loss: 0.4972 - val_loss: 0.4994\n",
      "Epoch 18/20\n",
      "363/363 [==============================] - 0s 816us/step - loss: 0.4949 - val_loss: 0.4975\n",
      "Epoch 19/20\n",
      "363/363 [==============================] - 0s 829us/step - loss: 0.4916 - val_loss: 0.4940\n",
      "Epoch 20/20\n",
      "363/363 [==============================] - 0s 813us/step - loss: 0.4875 - val_loss: 0.4923\n"
     ]
    }
   ],
   "source": [
    "model.compile(loss=\"mean_squared_error\", optimizer=keras.optimizers.SGD(lr=1e-3))\n",
    "history = model.fit(X_train, y_train, epochs=20, validation_data=(X_valid, y_valid))"
   ]
  },
  {
   "cell_type": "code",
   "execution_count": 39,
   "metadata": {},
   "outputs": [
    {
     "data": {
      "image/png": "[encoded data removed]",
      "text/plain": [
       "<Figure size 576x360 with 1 Axes>"
      ]
     },
     "metadata": {
      "needs_background": "light"
     },
     "output_type": "display_data"
    }
   ],
   "source": [
    "pd.DataFrame(history.history).plot(figsize=(8, 5))\n",
    "plt.grid(True)\n",
    "plt.gca().set_ylim(0, 2) # Set the vertical range to [0-1]\n",
    "plt.show()"
   ]
  },
  {
   "cell_type": "markdown",
   "metadata": {},
   "source": [
    "### Functional API: Multiple inputs"
   ]
  },
  {
   "cell_type": "markdown",
   "metadata": {},
   "source": [
    "Everything works fine until now, but what if you want to send a subset of the features through the wide path and a different subset (possibly overlapping) through the deep path (see Figure 10-15)? In this case, one solution is to use multiple inputs. For example, suppose we want to send five features through the wide path (features 0 to 4), and six features through the deep path (features 2 to 7):\n",
    "\n",
    "Let's try to implement the following NN archictecture with the Keras Functional API:\n",
    "\n",
    "![multiple_inputs](./images/ch10_multiple_inputs.png)"
   ]
  },
  {
   "cell_type": "code",
   "execution_count": 40,
   "metadata": {},
   "outputs": [],
   "source": [
    "input_A = keras.layers.Input(shape=[5], name=\"wide_input\")\n",
    "input_B = keras.layers.Input(shape=[6], name=\"deep_input\")\n",
    "hidden1 = keras.layers.Dense(30, activation=\"relu\")(input_B)\n",
    "hidden2 = keras.layers.Dense(30, activation=\"relu\")(hidden1)\n",
    "# Note it does not need to pass an argument like in the other layers\n",
    "concat = keras.layers.concatenate([input_A, hidden2])\n",
    "output = keras.layers.Dense(1, name=\"output\")(concat)\n",
    "\n",
    "model = keras.Model(inputs=[input_A, input_B], outputs=[output])"
   ]
  },
  {
   "cell_type": "markdown",
   "metadata": {},
   "source": [
    "Now we can compile the model as usual, but when we call the *fit()* method, instead of passing a single input matrix *X_train*, we must pass a pair of matrices *(X_train_A, X_train_B)*: one per input. The same is true for *X_valid*, and also for *X_test* and *X_new* when you call *evaluate()* or *predict()*:"
   ]
  },
  {
   "cell_type": "code",
   "execution_count": 41,
   "metadata": {},
   "outputs": [
    {
     "name": "stderr",
     "output_type": "stream",
     "text": [
      "/home/alexandre/Documents/git/handson-ml-notes/handsonml2-env/lib/python3.8/site-packages/keras/optimizer_v2/gradient_descent.py:102: UserWarning: The `lr` argument is deprecated, use `learning_rate` instead.\n",
      "  super(SGD, self).__init__(name, **kwargs)\n"
     ]
    },
    {
     "name": "stdout",
     "output_type": "stream",
     "text": [
      "Epoch 1/20\n",
      "363/363 [==============================] - 1s 1ms/step - loss: 1.9262 - val_loss: 0.8663\n",
      "Epoch 2/20\n",
      "363/363 [==============================] - 0s 927us/step - loss: 0.7662 - val_loss: 0.6892\n",
      "Epoch 3/20\n",
      "363/363 [==============================] - 0s 990us/step - loss: 0.6705 - val_loss: 0.6374\n",
      "Epoch 4/20\n",
      "363/363 [==============================] - 1s 1ms/step - loss: 0.6300 - val_loss: 0.6055\n",
      "Epoch 5/20\n",
      "363/363 [==============================] - 0s 893us/step - loss: 0.6019 - val_loss: 0.5834\n",
      "Epoch 6/20\n",
      "363/363 [==============================] - 1s 1ms/step - loss: 0.5828 - val_loss: 0.5658\n",
      "Epoch 7/20\n",
      "363/363 [==============================] - 0s 950us/step - loss: 0.5656 - val_loss: 0.5519\n",
      "Epoch 8/20\n",
      "363/363 [==============================] - 0s 854us/step - loss: 0.5530 - val_loss: 0.5404\n",
      "Epoch 9/20\n",
      "363/363 [==============================] - 0s 846us/step - loss: 0.5423 - val_loss: 0.5293\n",
      "Epoch 10/20\n",
      "363/363 [==============================] - 0s 926us/step - loss: 0.5325 - val_loss: 0.5203\n",
      "Epoch 11/20\n",
      "363/363 [==============================] - 0s 930us/step - loss: 0.5254 - val_loss: 0.5130\n",
      "Epoch 12/20\n",
      "363/363 [==============================] - 0s 910us/step - loss: 0.5157 - val_loss: 0.5141\n",
      "Epoch 13/20\n",
      "363/363 [==============================] - 0s 898us/step - loss: 0.5095 - val_loss: 0.5004\n",
      "Epoch 14/20\n",
      "363/363 [==============================] - 0s 860us/step - loss: 0.5069 - val_loss: 0.4954\n",
      "Epoch 15/20\n",
      "363/363 [==============================] - 0s 902us/step - loss: 0.5010 - val_loss: 0.4922\n",
      "Epoch 16/20\n",
      "363/363 [==============================] - 0s 924us/step - loss: 0.4965 - val_loss: 0.4871\n",
      "Epoch 17/20\n",
      "363/363 [==============================] - 0s 895us/step - loss: 0.4946 - val_loss: 0.4854\n",
      "Epoch 18/20\n",
      "363/363 [==============================] - 0s 866us/step - loss: 0.4937 - val_loss: 0.4822\n",
      "Epoch 19/20\n",
      "363/363 [==============================] - 0s 866us/step - loss: 0.4892 - val_loss: 0.4788\n",
      "Epoch 20/20\n",
      "363/363 [==============================] - 0s 869us/step - loss: 0.4844 - val_loss: 0.4792\n"
     ]
    }
   ],
   "source": [
    "model.compile(loss=\"mean_squared_error\", optimizer=keras.optimizers.SGD(lr=1e-3))\n",
    "\n",
    "X_train_A, X_train_B = X_train[:, :5], X_train[:, 2:]\n",
    "X_valid_A, X_valid_B = X_valid[:, :5], X_valid[:, 2:]\n",
    "\n",
    "X_test_A, X_test_B = X_test[:, :5], X_test[:, 2:]\n",
    "X_new_A, X_new_B = X_test_A[:3], X_test_B[:3]\n",
    "\n",
    "history = model.fit(x=(X_train_A, X_train_B), y=y_train, epochs=20, \n",
    "                    validation_data=((X_valid_A, X_valid_B), y_valid))"
   ]
  },
  {
   "cell_type": "code",
   "execution_count": 42,
   "metadata": {},
   "outputs": [
    {
     "data": {
      "image/png": "[encoded data removed]",
      "text/plain": [
       "<Figure size 576x360 with 1 Axes>"
      ]
     },
     "metadata": {
      "needs_background": "light"
     },
     "output_type": "display_data"
    }
   ],
   "source": [
    "pd.DataFrame(history.history).plot(figsize=(8, 5))\n",
    "plt.grid(True)\n",
    "plt.gca().set_ylim(0, 2) # Set the vertical range to [0-1]\n",
    "plt.show()"
   ]
  },
  {
   "cell_type": "code",
   "execution_count": 43,
   "metadata": {},
   "outputs": [
    {
     "name": "stdout",
     "output_type": "stream",
     "text": [
      "162/162 [==============================] - 0s 729us/step - loss: 0.4613\n"
     ]
    }
   ],
   "source": [
    "mse_test = model.evaluate((X_test_A, X_test_B), y_test)"
   ]
  },
  {
   "cell_type": "code",
   "execution_count": 44,
   "metadata": {},
   "outputs": [
    {
     "data": {
      "text/plain": [
       "array([[3.0679526],\n",
       "       [1.4566042],\n",
       "       [1.3567951]], dtype=float32)"
      ]
     },
     "execution_count": 44,
     "metadata": {},
     "output_type": "execute_result"
    }
   ],
   "source": [
    "y_pred = model.predict((X_new_A, X_new_B))\n",
    "y_pred"
   ]
  },
  {
   "cell_type": "markdown",
   "metadata": {},
   "source": [
    "### Functional API: Multiple inputs and outputs"
   ]
  },
  {
   "cell_type": "markdown",
   "metadata": {},
   "source": [
    "There are many use cases in which you may want to have multiple output\n",
    "\n",
    "- The task may demand it. For instance, you may want to locate and classify the main object in a picture. This is both a regression task (finding the coordinates of the object’s center, as well as its width and height) and a classification task.\n",
    "\n",
    "- Similarly, you may have multiple independent tasks based on the same data. Sure, you could train one neural network per task, but in many cases you will get better results on all tasks by training a single neural network with one output per task. This is because the neural network can learn features in the data that are useful across tasks. For example, you could perform multitask classification on pictures of faces, using one output to classify the person’s facial expression (smiling, surprised, etc.) and another output to identify whether they are wearing glasses or not.\n",
    "\n",
    "- Another use case is as a regularization technique (i.e., a training constraint whose objective is to reduce overfitting and thus improve the model’s ability to generalize). For example, you may want to add some auxiliary outputs in a neural network architecture (see Figure 10-16) to ensure that the underlying part of the network learns something useful on its own, without relying on the rest of the network.\n",
    "\n",
    "![multiple_inputs_outputs](./images/ch10_multiple_inputs_outputs.png)"
   ]
  },
  {
   "cell_type": "code",
   "execution_count": 45,
   "metadata": {},
   "outputs": [],
   "source": [
    "input_A = keras.layers.Input(shape=[5], name=\"wide_input\")\n",
    "input_B = keras.layers.Input(shape=[6], name=\"deep_input\")\n",
    "hidden1 = keras.layers.Dense(30, activation=\"relu\")(input_B)\n",
    "hidden2 = keras.layers.Dense(30, activation=\"relu\")(hidden1)\n",
    "# Note it does not need to pass an argument like in the other layers\n",
    "concat = keras.layers.concatenate([input_A, hidden2])\n",
    "output = keras.layers.Dense(1, name=\"main_output\")(concat)\n",
    "\n",
    "aux_output = keras.layers.Dense(1, name=\"aux_output\")(hidden2)\n",
    "\n",
    "model = keras.Model(inputs=[input_A, input_B], outputs=[output, aux_output])"
   ]
  },
  {
   "cell_type": "code",
   "execution_count": 46,
   "metadata": {},
   "outputs": [],
   "source": [
    "# Each output will need its own loss function\n",
    "# Assign more weight to the loss of the main output\n",
    "model.compile(loss=[\"mse\", \"mse\"], loss_weights=[0.9, 0.1], optimizer=\"sgd\")"
   ]
  },
  {
   "cell_type": "code",
   "execution_count": 47,
   "metadata": {},
   "outputs": [
    {
     "name": "stdout",
     "output_type": "stream",
     "text": [
      "Epoch 1/20\n",
      "363/363 [==============================] - 1s 1ms/step - loss: 1.0788 - main_output_loss: 1.0044 - aux_output_loss: 1.7475 - val_loss: 0.6167 - val_main_output_loss: 0.5547 - val_aux_output_loss: 1.1742\n",
      "Epoch 2/20\n",
      "363/363 [==============================] - 0s 1ms/step - loss: 0.5809 - main_output_loss: 0.5266 - aux_output_loss: 1.0700 - val_loss: 0.5511 - val_main_output_loss: 0.4984 - val_aux_output_loss: 1.0263\n",
      "Epoch 3/20\n",
      "363/363 [==============================] - 0s 980us/step - loss: 0.5468 - main_output_loss: 0.5037 - aux_output_loss: 0.9345 - val_loss: 0.5110 - val_main_output_loss: 0.4678 - val_aux_output_loss: 0.8992\n",
      "Epoch 4/20\n",
      "363/363 [==============================] - 0s 988us/step - loss: 0.5068 - main_output_loss: 0.4706 - aux_output_loss: 0.8329 - val_loss: 0.4890 - val_main_output_loss: 0.4528 - val_aux_output_loss: 0.8146\n",
      "Epoch 5/20\n",
      "363/363 [==============================] - 0s 981us/step - loss: 0.4925 - main_output_loss: 0.4617 - aux_output_loss: 0.7691 - val_loss: 0.4653 - val_main_output_loss: 0.4347 - val_aux_output_loss: 0.7413\n",
      "Epoch 6/20\n",
      "363/363 [==============================] - 0s 979us/step - loss: 0.4653 - main_output_loss: 0.4376 - aux_output_loss: 0.7143 - val_loss: 0.4468 - val_main_output_loss: 0.4197 - val_aux_output_loss: 0.6909\n",
      "Epoch 7/20\n",
      "363/363 [==============================] - 0s 986us/step - loss: 0.4511 - main_output_loss: 0.4270 - aux_output_loss: 0.6679 - val_loss: 0.4407 - val_main_output_loss: 0.4167 - val_aux_output_loss: 0.6566\n",
      "Epoch 8/20\n",
      "363/363 [==============================] - 0s 1ms/step - loss: 0.4428 - main_output_loss: 0.4203 - aux_output_loss: 0.6455 - val_loss: 0.4256 - val_main_output_loss: 0.4028 - val_aux_output_loss: 0.6306\n",
      "Epoch 9/20\n",
      "363/363 [==============================] - 0s 996us/step - loss: 0.4331 - main_output_loss: 0.4121 - aux_output_loss: 0.6223 - val_loss: 0.4183 - val_main_output_loss: 0.3972 - val_aux_output_loss: 0.6083\n",
      "Epoch 10/20\n",
      "363/363 [==============================] - 0s 999us/step - loss: 0.4201 - main_output_loss: 0.3995 - aux_output_loss: 0.6060 - val_loss: 0.4103 - val_main_output_loss: 0.3902 - val_aux_output_loss: 0.5907\n",
      "Epoch 11/20\n",
      "363/363 [==============================] - 0s 977us/step - loss: 0.4121 - main_output_loss: 0.3930 - aux_output_loss: 0.5841 - val_loss: 0.4035 - val_main_output_loss: 0.3847 - val_aux_output_loss: 0.5727\n",
      "Epoch 12/20\n",
      "363/363 [==============================] - 0s 984us/step - loss: 0.4036 - main_output_loss: 0.3850 - aux_output_loss: 0.5708 - val_loss: 0.3889 - val_main_output_loss: 0.3703 - val_aux_output_loss: 0.5563\n",
      "Epoch 13/20\n",
      "363/363 [==============================] - 0s 970us/step - loss: 0.3979 - main_output_loss: 0.3802 - aux_output_loss: 0.5577 - val_loss: 0.4006 - val_main_output_loss: 0.3839 - val_aux_output_loss: 0.5514\n",
      "Epoch 14/20\n",
      "363/363 [==============================] - 0s 976us/step - loss: 0.3900 - main_output_loss: 0.3723 - aux_output_loss: 0.5495 - val_loss: 0.3728 - val_main_output_loss: 0.3561 - val_aux_output_loss: 0.5237\n",
      "Epoch 15/20\n",
      "363/363 [==============================] - 0s 1ms/step - loss: 0.3895 - main_output_loss: 0.3731 - aux_output_loss: 0.5365 - val_loss: 0.3699 - val_main_output_loss: 0.3539 - val_aux_output_loss: 0.5133\n",
      "Epoch 16/20\n",
      "363/363 [==============================] - 0s 1ms/step - loss: 0.3808 - main_output_loss: 0.3643 - aux_output_loss: 0.5296 - val_loss: 0.3726 - val_main_output_loss: 0.3573 - val_aux_output_loss: 0.5106\n",
      "Epoch 17/20\n",
      "363/363 [==============================] - 0s 1ms/step - loss: 0.3773 - main_output_loss: 0.3617 - aux_output_loss: 0.5184 - val_loss: 0.3647 - val_main_output_loss: 0.3496 - val_aux_output_loss: 0.5004\n",
      "Epoch 18/20\n",
      "363/363 [==============================] - 0s 983us/step - loss: 0.3764 - main_output_loss: 0.3617 - aux_output_loss: 0.5088 - val_loss: 0.3604 - val_main_output_loss: 0.3460 - val_aux_output_loss: 0.4898\n",
      "Epoch 19/20\n",
      "363/363 [==============================] - 0s 977us/step - loss: 0.3693 - main_output_loss: 0.3545 - aux_output_loss: 0.5026 - val_loss: 0.3591 - val_main_output_loss: 0.3455 - val_aux_output_loss: 0.4813\n",
      "Epoch 20/20\n",
      "363/363 [==============================] - 0s 981us/step - loss: 0.3684 - main_output_loss: 0.3541 - aux_output_loss: 0.4976 - val_loss: 0.3592 - val_main_output_loss: 0.3458 - val_aux_output_loss: 0.4796\n"
     ]
    }
   ],
   "source": [
    "history = model.fit(x=[X_train_A, X_train_B], y=[y_train, y_train], epochs=20,  \n",
    "                   validation_data=([X_valid_A, X_valid_B],[y_valid, y_valid]))"
   ]
  },
  {
   "cell_type": "markdown",
   "metadata": {},
   "source": [
    "When we evaluate the model, Keras will return the total loss, as well as all the individual losses:"
   ]
  },
  {
   "cell_type": "code",
   "execution_count": 48,
   "metadata": {},
   "outputs": [
    {
     "name": "stdout",
     "output_type": "stream",
     "text": [
      "162/162 [==============================] - 0s 736us/step - loss: 0.3590 - main_output_loss: 0.3458 - aux_output_loss: 0.4779\n"
     ]
    }
   ],
   "source": [
    "total_loss, main_loss, aux_loss = model.evaluate([X_test_A, X_test_B], [y_test, y_test])"
   ]
  },
  {
   "cell_type": "markdown",
   "metadata": {},
   "source": [
    "Similarly, the *predict()* method will return predictions for each output:"
   ]
  },
  {
   "cell_type": "code",
   "execution_count": 49,
   "metadata": {},
   "outputs": [
    {
     "name": "stdout",
     "output_type": "stream",
     "text": [
      "[[3.681119 ]\n",
      " [1.3549365]\n",
      " [1.2045692]] [[2.9696362]\n",
      " [1.5232389]\n",
      " [1.7351918]]\n"
     ]
    }
   ],
   "source": [
    "y_pred_main, y_pred_aux = model.predict([X_new_A, X_new_B])\n",
    "print(y_pred_main, y_pred_aux)"
   ]
  },
  {
   "cell_type": "markdown",
   "metadata": {},
   "source": [
    "## Using the Subclassing API to build Dynamic Models"
   ]
  },
  {
   "cell_type": "markdown",
   "metadata": {},
   "source": [
    "There is one last that way you can build Keras models. Both the Sequential API and the Functional API are declarative: you start by declaring which layers you want to use and how they should be connected, and only then can you start feeding the model some data for training or inference. This has many advantages: the model can easily be saved, cloned, and shared; its structure can be displayed and analyzed; the framework can infer shapes and check types, so errors can be caught early (i.e., before any data ever goes through the model). It’s also fairly easy to debug, since the whole model is a static graph of layers. But the flip side is just that: it’s static. Some models involve loops, varying shapes, conditional branching, and other dynamic behaviors. For such cases, or simply if you prefer a more imperative programming style, the Subclassing API is for you."
   ]
  },
  {
   "cell_type": "markdown",
   "metadata": {},
   "source": [
    "Simply subclass the *Model* class, create the layers you need in the constructor, and use them to perform the computations you want in the *call()* method. For example, if you want to implement the neural network we just built using the functional API, do as follows:"
   ]
  },
  {
   "cell_type": "code",
   "execution_count": 50,
   "metadata": {},
   "outputs": [],
   "source": [
    "class WideAndDeepModel(keras.Model):\n",
    "    def __init__(self, units=30, activation=\"relu\", **kwargs):\n",
    "        super().__init__(**kwargs) # handles standard args (e.g., name)\n",
    "        self.hidden1 = keras.layers.Dense(units, activation=activation)\n",
    "        self.hidden2 = keras.layers.Dense(units, activation=activation)\n",
    "        self.main_output = keras.layers.Dense(1)\n",
    "        self.aux_output = keras.layers.Dense(1)\n",
    "        \n",
    "    def call(self, inputs):\n",
    "        input_A, input_B = inputs\n",
    "        hidden1 = self.hidden1(input_B)\n",
    "        hidden2 = self.hidden2(hidden1)\n",
    "        concat = keras.layers.concatenate([input_A, hidden2])\n",
    "        main_output = self.main_output(concat)\n",
    "        aux_output = self.aux_output(hidden2)\n",
    "        return main_output, aux_output\n",
    "    \n",
    "model = WideAndDeepModel()"
   ]
  },
  {
   "cell_type": "markdown",
   "metadata": {},
   "source": [
    "## Saving and Restoring a Model"
   ]
  },
  {
   "cell_type": "markdown",
   "metadata": {},
   "source": [
    "Saving a model is a trivial task. You just have to follow all the steps presented earlier. Instantiate a model, train and evaluate it. Then, you can save it.\n",
    "\n",
    "Keras will use the HDF5 format to save both the model’s architecture (including every layer’s hyperparameters) and the values of all the model parameters for every layer (e.g., connection weights and biases). It also saves the optimizer (including its hyperparameters and any state it may have)."
   ]
  },
  {
   "cell_type": "code",
   "execution_count": 51,
   "metadata": {},
   "outputs": [],
   "source": [
    "# model = keras.layers.Sequential([...]) # or keras.Model([...])\n",
    "# model.compile([...])\n",
    "# model.fit([...])\n",
    "\n",
    "# save the model in HDF5 format\n",
    "# model.save(\"my_keras_model.h5\")"
   ]
  },
  {
   "cell_type": "markdown",
   "metadata": {},
   "source": [
    "Restoring a model is just as simple:"
   ]
  },
  {
   "cell_type": "code",
   "execution_count": 52,
   "metadata": {},
   "outputs": [],
   "source": [
    "# model = keras.models.load_model(\"my_keras_model.h5\")"
   ]
  },
  {
   "cell_type": "markdown",
   "metadata": {},
   "source": [
    "Note that the *save()* and *load_model()* functions can only be used with the Sequential or functional API. When using model subclassing, all you can do is to use *save_weights()* and *load_weigths*, the other parameters you'll have to restore yourself."
   ]
  },
  {
   "cell_type": "markdown",
   "metadata": {},
   "source": [
    "What if the training lasts several hours? You can't rely on model saving only after the whole training is complete. You must save checkpoints during the execution of the *fit()* method. *Callbacks* come to this aid."
   ]
  },
  {
   "cell_type": "markdown",
   "metadata": {},
   "source": [
    "### Using Callbacks"
   ]
  },
  {
   "cell_type": "markdown",
   "metadata": {},
   "source": [
    "The fit() method accepts a callbacks argument that lets you specify a list of objects that Keras will call at the start and end of **training**, at the start and end of each **epoch**, and even before and after processing each **batch**."
   ]
  },
  {
   "cell_type": "code",
   "execution_count": 57,
   "metadata": {},
   "outputs": [],
   "source": [
    "# [...] # build and compile the model\n",
    "# checkpoint_cb = keras.callbacks.ModelCheckpoint(\"my_keras_model.h5\")\n",
    "# history = model.fit(X_train, y_train, epochs=10, callbacks=[checkpoint_cb])"
   ]
  },
  {
   "cell_type": "markdown",
   "metadata": {},
   "source": [
    "Moreover, if you use a validation set during training, you can set save_best_only=True when creating the ModelCheckpoint. In this case, it will only save your model when its performance on the validation set is the best so far. This way, you do not need to worry about training for too long and overfitting the training set: simply restore the last model saved after training, and this will be the best model on the validation set. This is another option to implement the early stopping strategy discussed in chapter 4:"
   ]
  },
  {
   "cell_type": "code",
   "execution_count": 58,
   "metadata": {},
   "outputs": [],
   "source": [
    "# checkpoint_cb = keras.callbacks.ModelCheckpoint(\"my_keras_model.h5\",\n",
    "#                                                 save_best_only=True)\n",
    "# history = model.fit(X_train, y_train, epochs=10,\n",
    "#                     validation_data=(X_valid, y_valid),\n",
    "#                     callbacks=[checkpoint_cb])\n",
    "# model = keras.models.load_model(\"my_keras_model.h5\") # roll back to best model"
   ]
  },
  {
   "cell_type": "markdown",
   "metadata": {},
   "source": [
    "Another way to implement early stopping is simply calling it:"
   ]
  },
  {
   "cell_type": "code",
   "execution_count": 59,
   "metadata": {},
   "outputs": [],
   "source": [
    "# early_stopping_cb = keras.callbacks.EarlyStopping(patience=10,\n",
    "#                                                   restore_best_weights=True)\n",
    "# history = model.fit(X_train, y_train, epochs=100,\n",
    "#                     validation_data=(X_valid, y_valid),\n",
    "#                     callbacks=[checkpoint_cb, early_stopping_cb])"
   ]
  },
  {
   "cell_type": "markdown",
   "metadata": {},
   "source": [
    "### Custom callbacks"
   ]
  },
  {
   "cell_type": "markdown",
   "metadata": {},
   "source": [
    "You you want more control on callbacks, you can implement your owns by subclassing the class *keras.callbacks.Callback*. "
   ]
  },
  {
   "cell_type": "code",
   "execution_count": 60,
   "metadata": {},
   "outputs": [],
   "source": [
    "# display the ratio between the validation loss and the \n",
    "# training loss during training (e.g., to detect overfitting):\n",
    "# class PrintValTrainRatioCallback(keras.callbacks.Callback):\n",
    "#     def on_epoch_end(self, epoch, logs):\n",
    "#         print(\"\\nval/train: {:.2f}\".format(logs[\"val_loss\"] / logs[\"loss\"]))"
   ]
  },
  {
   "cell_type": "markdown",
   "metadata": {},
   "source": [
    "As you might expect, you can also use *on_train_begin()*, *on_train_end()*, *on_epoch_begin()*, *on_epoch_end()*, *on_batch_begin()*, and *on_batch_end()*. Callbacks can also be used during evaluation and predictions, should you ever need them (e.g., for debugging). For evaluation, you should implement *on_test_begin()*, *on_test_end()*, *on_test_batch_begin()*, or *on_test_batch_end()* (called by *evaluate()*), and for prediction you should implement *on_predict_begin()*, *on_predict_end()*, *on_predict_batch_begin()*, or *on_predict_batch_end()* (called by *predict()*)."
   ]
  },
  {
   "cell_type": "markdown",
   "metadata": {},
   "source": [
    "## TensorBoard"
   ]
  },
  {
   "cell_type": "markdown",
   "metadata": {},
   "source": [
    "TensorBoard is a great interactive visualization tool that you can use to view the learning curves during training, compare learning curves between multiple runs, visualize the computation graph, analyze training statistics, view images generated by your model, visualize complex multidimensional data projected down to 3D and automatically clustered for you, and more!"
   ]
  },
  {
   "cell_type": "code",
   "execution_count": 70,
   "metadata": {},
   "outputs": [],
   "source": [
    "import os \n",
    "root_logdir = os.path.join(os.curdir, \"my_logs\")"
   ]
  },
  {
   "cell_type": "code",
   "execution_count": 71,
   "metadata": {},
   "outputs": [],
   "source": [
    "def get_run_logdir():\n",
    "    import time\n",
    "    run_id = time.strftime(\"run_%Y_%m_%d-%H_%M_%S\")\n",
    "    return os.path.join(root_logdir, run_id)"
   ]
  },
  {
   "cell_type": "code",
   "execution_count": 72,
   "metadata": {},
   "outputs": [],
   "source": [
    "run_logdir = get_run_logdir() # e.g., './my_logs/run_2021_03_12-10_15_50'"
   ]
  },
  {
   "cell_type": "code",
   "execution_count": 73,
   "metadata": {},
   "outputs": [],
   "source": [
    "# build and compile the model\n",
    "\n",
    "fashion_mnist = keras.datasets.fashion_mnist\n",
    "(X_train_full, y_train_full), (X_test, y_test) = fashion_mnist.load_data()\n",
    "\n",
    "X_valid, X_train = X_train_full[:5000] / 255.0, X_train_full[5000:] / 255.0\n",
    "y_valid, y_train = y_train_full[:5000], y_train_full[5000:]\n",
    "\n",
    "model = keras.models.Sequential()\n",
    "model.add(keras.layers.Flatten(input_shape=[28, 28]))\n",
    "model.add(keras.layers.Dense(300, activation=\"relu\"))\n",
    "model.add(keras.layers.Dense(100, activation=\"relu\"))\n",
    "model.add(keras.layers.Dense(10,  activation=\"softmax\"))\n",
    "\n",
    "model.compile(loss=\"sparse_categorical_crossentropy\", \n",
    "              optimizer=\"sgd\", # Default learning Rate of \"sgd\" optimizer = 0.01\n",
    "              metrics=[\"accuracy\"])"
   ]
  },
  {
   "cell_type": "code",
   "execution_count": 74,
   "metadata": {},
   "outputs": [
    {
     "name": "stdout",
     "output_type": "stream",
     "text": [
      "Epoch 1/30\n",
      "1719/1719 [==============================] - 8s 4ms/step - loss: 1.0268 - accuracy: 0.6726 - val_loss: 0.5405 - val_accuracy: 0.8096\n",
      "Epoch 2/30\n",
      "1719/1719 [==============================] - 7s 4ms/step - loss: 0.5030 - accuracy: 0.8247 - val_loss: 0.4504 - val_accuracy: 0.8442\n",
      "Epoch 3/30\n",
      "1719/1719 [==============================] - 12s 7ms/step - loss: 0.4462 - accuracy: 0.8421 - val_loss: 0.4086 - val_accuracy: 0.8612\n",
      "Epoch 4/30\n",
      "1719/1719 [==============================] - 9s 5ms/step - loss: 0.4235 - accuracy: 0.8503 - val_loss: 0.4084 - val_accuracy: 0.8570\n",
      "Epoch 5/30\n",
      "1719/1719 [==============================] - 14s 8ms/step - loss: 0.3986 - accuracy: 0.8591 - val_loss: 0.3874 - val_accuracy: 0.8664\n",
      "Epoch 6/30\n",
      "1719/1719 [==============================] - 9s 5ms/step - loss: 0.3831 - accuracy: 0.8644 - val_loss: 0.3632 - val_accuracy: 0.8740\n",
      "Epoch 7/30\n",
      "1719/1719 [==============================] - 11s 6ms/step - loss: 0.3672 - accuracy: 0.8701 - val_loss: 0.3611 - val_accuracy: 0.8746\n",
      "Epoch 8/30\n",
      "1719/1719 [==============================] - 9s 5ms/step - loss: 0.3541 - accuracy: 0.8764 - val_loss: 0.3542 - val_accuracy: 0.8752\n",
      "Epoch 9/30\n",
      "1719/1719 [==============================] - 8s 5ms/step - loss: 0.3426 - accuracy: 0.8799 - val_loss: 0.3610 - val_accuracy: 0.8700\n",
      "Epoch 10/30\n",
      "1719/1719 [==============================] - 9s 5ms/step - loss: 0.3325 - accuracy: 0.8809 - val_loss: 0.3441 - val_accuracy: 0.8776\n",
      "Epoch 11/30\n",
      "1719/1719 [==============================] - 11s 7ms/step - loss: 0.3254 - accuracy: 0.8832 - val_loss: 0.3453 - val_accuracy: 0.8776\n",
      "Epoch 12/30\n",
      "1719/1719 [==============================] - 11s 7ms/step - loss: 0.3211 - accuracy: 0.8832 - val_loss: 0.3336 - val_accuracy: 0.8812\n",
      "Epoch 13/30\n",
      "1719/1719 [==============================] - 13s 7ms/step - loss: 0.3186 - accuracy: 0.8869 - val_loss: 0.3298 - val_accuracy: 0.8790\n",
      "Epoch 14/30\n",
      "1719/1719 [==============================] - 10s 6ms/step - loss: 0.3018 - accuracy: 0.8900 - val_loss: 0.3400 - val_accuracy: 0.8796\n",
      "Epoch 15/30\n",
      "1719/1719 [==============================] - 15s 9ms/step - loss: 0.2940 - accuracy: 0.8942 - val_loss: 0.3248 - val_accuracy: 0.8842\n",
      "Epoch 16/30\n",
      "1719/1719 [==============================] - 9s 5ms/step - loss: 0.2886 - accuracy: 0.8959 - val_loss: 0.3203 - val_accuracy: 0.8864\n",
      "Epoch 17/30\n",
      "1719/1719 [==============================] - 11s 6ms/step - loss: 0.2889 - accuracy: 0.8954 - val_loss: 0.3172 - val_accuracy: 0.8878\n",
      "Epoch 18/30\n",
      "1719/1719 [==============================] - 10s 6ms/step - loss: 0.2776 - accuracy: 0.9011 - val_loss: 0.3236 - val_accuracy: 0.8832\n",
      "Epoch 19/30\n",
      "1719/1719 [==============================] - 8s 5ms/step - loss: 0.2736 - accuracy: 0.9010 - val_loss: 0.3423 - val_accuracy: 0.8772\n",
      "Epoch 20/30\n",
      "1719/1719 [==============================] - 10s 6ms/step - loss: 0.2733 - accuracy: 0.9035 - val_loss: 0.3158 - val_accuracy: 0.8864\n",
      "Epoch 21/30\n",
      "1719/1719 [==============================] - 15s 9ms/step - loss: 0.2653 - accuracy: 0.9053 - val_loss: 0.3070 - val_accuracy: 0.8884\n",
      "Epoch 22/30\n",
      "1719/1719 [==============================] - 13s 7ms/step - loss: 0.2573 - accuracy: 0.9082 - val_loss: 0.3060 - val_accuracy: 0.8914\n",
      "Epoch 23/30\n",
      "1719/1719 [==============================] - 17s 10ms/step - loss: 0.2533 - accuracy: 0.9097 - val_loss: 0.3084 - val_accuracy: 0.8896\n",
      "Epoch 24/30\n",
      "1719/1719 [==============================] - 13s 7ms/step - loss: 0.2472 - accuracy: 0.9109 - val_loss: 0.3018 - val_accuracy: 0.8882\n",
      "Epoch 25/30\n",
      "1719/1719 [==============================] - 14s 8ms/step - loss: 0.2428 - accuracy: 0.9136 - val_loss: 0.2989 - val_accuracy: 0.8904\n",
      "Epoch 26/30\n",
      "1719/1719 [==============================] - 12s 7ms/step - loss: 0.2406 - accuracy: 0.9144 - val_loss: 0.3027 - val_accuracy: 0.8870\n",
      "Epoch 27/30\n",
      "1719/1719 [==============================] - 12s 7ms/step - loss: 0.2390 - accuracy: 0.9145 - val_loss: 0.3064 - val_accuracy: 0.8878\n",
      "Epoch 28/30\n",
      "1719/1719 [==============================] - 13s 8ms/step - loss: 0.2338 - accuracy: 0.9172 - val_loss: 0.3040 - val_accuracy: 0.8892\n",
      "Epoch 29/30\n",
      "1719/1719 [==============================] - 15s 9ms/step - loss: 0.2303 - accuracy: 0.9180 - val_loss: 0.2993 - val_accuracy: 0.8902\n",
      "Epoch 30/30\n",
      "1719/1719 [==============================] - 8s 5ms/step - loss: 0.2240 - accuracy: 0.9192 - val_loss: 0.3425 - val_accuracy: 0.8788\n"
     ]
    }
   ],
   "source": [
    "tensorboard_cb = keras.callbacks.TensorBoard(run_logdir)\n",
    "\n",
    "history = model.fit(X_train, y_train, epochs=30, \n",
    "                   validation_data=(X_valid, y_valid),\n",
    "                   callbacks=[tensorboard_cb])"
   ]
  },
  {
   "cell_type": "code",
   "execution_count": 76,
   "metadata": {},
   "outputs": [],
   "source": [
    "# Open on Browser\n",
    "# tensorboard --logdir=./my_logs --port=6006\n",
    "\n",
    "# Open on Jupyter\n",
    "# %load_ext tensorboard\n",
    "# %tensorboard --logdir=./my_logs --port=6006"
   ]
  },
  {
   "cell_type": "markdown",
   "metadata": {},
   "source": [
    "## Fine-Tuning Neural Network Hyperparameters"
   ]
  },
  {
   "cell_type": "markdown",
   "metadata": {},
   "source": [
    "The main drawbacks of neural networks is the possible value of each hyperparameters. The search space is too wide. In chapter 2 we saw two techniques using K-fold Cross Validation to find the best parameters out from a specified set of parameters sample: *GridSearchCV* or *RandomizedSearchCV*. However, we were using scikit-learn back then.\n",
    "\n",
    "To use keras now, we need to make some adaptations. The first step is to create a function that will build and compile a Keras model, given a set of hyperparameters:"
   ]
  },
  {
   "cell_type": "code",
   "execution_count": 77,
   "metadata": {},
   "outputs": [],
   "source": [
    "def build_model(n_hidden=1, n_neurons=30, learning_rate=3e-3, input_shape=[8]):\n",
    "    model = keras.models.Sequential()\n",
    "    model.add(keras.layers.InputLayer(input_shape=input_shape))\n",
    "    for layer in range(n_hidden):\n",
    "        model.add(keras.layers.Dense(n_neurons, activation=\"relu\"))\n",
    "        model.add(keras.layers.Dense(1))\n",
    "        optimizer = keras.optimizers.SGD(lr=learning_rate)\n",
    "        model.compile(loss=\"mse\", optimizer=optimizer)\n",
    "    return model"
   ]
  },
  {
   "cell_type": "markdown",
   "metadata": {},
   "source": [
    "Next, let’s create a *KerasRegressor* based on this *build_model()* function:"
   ]
  },
  {
   "cell_type": "code",
   "execution_count": 78,
   "metadata": {},
   "outputs": [],
   "source": [
    "keras_reg = keras.wrappers.scikit_learn.KerasRegressor(build_model)\n",
    "\n",
    "# Since we did not specify any hyperparameters when creating it, \n",
    "# it will use the default hyperparameters we defined in build_model()"
   ]
  },
  {
   "cell_type": "markdown",
   "metadata": {},
   "source": [
    "Now we can use this object like a regular Scikit-Learn regressor: we can train it using its *fit()* method, then evaluate it using its *score()* method, and use it to make predictions using its *predict()* method, as you can see in the following code:"
   ]
  },
  {
   "cell_type": "code",
   "execution_count": 79,
   "metadata": {},
   "outputs": [],
   "source": [
    "# keras_reg.fit(X_train, y_train, epochs=100,\n",
    "#              validation_data=(X_valid, y_valid),\n",
    "#              callbacks=[keras.callbacks.EarlyStopping(patience=10)])\n",
    "\n",
    "# mse_test = keras_reg.score(X_test, y_test)\n",
    "# y_pred = keras_reg.predict(X_new)"
   ]
  },
  {
   "cell_type": "markdown",
   "metadata": {},
   "source": [
    "Note that any extra parameter you pass to the *fit()* method will get passed to the underlying Keras model. Also note that the score will be the opposite of the MSE because Scikit-Learn wants scores, not losses (i.e., higher should be better)."
   ]
  },
  {
   "cell_type": "markdown",
   "metadata": {},
   "source": [
    "Now we can implement RandomizedSearchCV on this keras regressor, just like we would do to a scikit-learn regressor:"
   ]
  },
  {
   "cell_type": "code",
   "execution_count": 86,
   "metadata": {},
   "outputs": [],
   "source": [
    "# from scipy.stats import reciprocal\n",
    "# from sklearn.model_selection import RandomizedSearchCV\n",
    "\n",
    "# param_distribs = {\n",
    "#     \"n_hidden\": [0, 1, 2, 3],\n",
    "#     \"n_neurons\": np.arange(1, 100),\n",
    "#     \"learning_rate\": reciprocal(3e-4, 3e-2)\n",
    "# }\n",
    "\n",
    "# rnd_search_cv = RandomizedSearchCV(keras_reg, param_distribs, n_iter=10, cv=3)\n",
    "# rnd_search_cv.fit(X_train, y_train, epochs=100,\n",
    "#                  validation_data=(X_valid, y_valid),\n",
    "#                  callbacks=[keras.callbacks.EarlyStopping(patience=10)])"
   ]
  },
  {
   "cell_type": "markdown",
   "metadata": {},
   "source": [
    "Note that *RandomizedSearchCV* uses K-fold cross-validation, so it does not use *X_valid* and *y_valid*, which are only used for early stopping. Lastly, you just need to select the best model out of the jointly sampled parameters:"
   ]
  },
  {
   "cell_type": "code",
   "execution_count": 87,
   "metadata": {},
   "outputs": [],
   "source": [
    "# rnd_search_cv.best_params_"
   ]
  },
  {
   "cell_type": "code",
   "execution_count": 88,
   "metadata": {},
   "outputs": [],
   "source": [
    "# rnd_search_cv.best_score_"
   ]
  },
  {
   "cell_type": "code",
   "execution_count": 89,
   "metadata": {},
   "outputs": [],
   "source": [
    "# model = rnd_search_cv.best_estimator_.model"
   ]
  },
  {
   "cell_type": "markdown",
   "metadata": {},
   "source": [
    "You can use several techniques to find the hyperparameters that best fits your ML problems. Nonetheless, it is also important to have an idea of what values are reasonable for each hyperparameter so that you can build a quick prototype and restrict the search space."
   ]
  },
  {
   "cell_type": "markdown",
   "metadata": {},
   "source": [
    "## Exercises"
   ]
  },
  {
   "cell_type": "markdown",
   "metadata": {},
   "source": [
    "3. **Why is it generally preferable to use a Logistic Regression classifier\n",
    "rather than a classical Perceptron (i.e., a single layer of threshold logic\n",
    "units trained using the Perceptron training algorithm)? How can you\n",
    "tweak a Perceptron to make it equivalent to a Logistic Regression\n",
    "classifier?**"
   ]
  },
  {
   "cell_type": "markdown",
   "metadata": {},
   "source": [
    "Because the classical perceptron algorithm only produces linear decision boundaries. Therefore, if the problem to be solved is not linearly separable, the classical perceptron algorithm will not converge to a solution. On the other hand, Logistic regression model applies a sigmoid function to the output, which implies that this model can solve nonlinear tasks."
   ]
  },
  {
   "cell_type": "markdown",
   "metadata": {},
   "source": [
    "4. **Why was the logistic activation function a key ingredient in training the\n",
    "first MLPs?**"
   ]
  },
  {
   "cell_type": "markdown",
   "metadata": {},
   "source": [
    "The logistic function enabled the use of the Backpropagation technique, that consists in taking the output of the network and propagate its error backwards until the input layer. Originally, MLP were trained using a heaviside (step) function. The step function has no gradient, making it impossible to use backprop in the original scenario."
   ]
  },
  {
   "cell_type": "markdown",
   "metadata": {},
   "source": [
    "5. **Name three popular activation functions. Can you draw them?**"
   ]
  },
  {
   "cell_type": "markdown",
   "metadata": {},
   "source": [
    "- Sigmoid: S-shaped, ranges from 0 to 1, its value is 0.5 when evaluated at 0.\n",
    "- Hyperbolic tangent: S-shaped, ranges from -1 to 1, its value is 0 when evaluated at 0.\n",
    "- Rectified Linear Unit (ReLu): zero for all x < 0, and equal the identity function for all x >= 0."
   ]
  },
  {
   "cell_type": "markdown",
   "metadata": {},
   "source": [
    "6. **Suppose you have an MLP composed of one input layer with 10\n",
    "passthrough neurons, followed by one hidden layer with 50 artificial\n",
    "neurons, and finally one output layer with 3 artificial neurons. All\n",
    "artificial neurons use the ReLU activation function.**"
   ]
  },
  {
   "cell_type": "markdown",
   "metadata": {},
   "source": [
    "- **What is the shape of the input matrix X?**\n",
    "\n",
    "X has n rows (one for each record) and 10 columns (one for each feature). Thus X is n by 10.\n",
    "\n",
    "- **What are the shapes of the hidden layer’s weight vector $W_h$\n",
    "and its bias vector $b_h$?**\n",
    "\n",
    "The weights matrix has shape 10 (inputs) by 50 (outputs) and the bias vector has shape 1 by 50.\n",
    "\n",
    "- **What are the shapes of the output layer’s weight vector $W_o$ and\n",
    "its bias vector $b_o$?**\n",
    "\n",
    "The output layer has the shape (50, 3) and its bias vector (1, 3).\n",
    "\n",
    "- **What is the shape of the network’s output matrix Y?**\n",
    "\n",
    "Since we have 3 neurons in the output layer, the shape is (n, 3).\n",
    "\n",
    "- **Write the equation that computes the network’s output matrix\n",
    "Y as a function of X, $W_h$ , $b_h$ , $W_o$ , and $b_o$.**\n",
    "\n",
    "$$\n",
    "Y = \\sigma(\\sigma(X \\cdot W_h + b_h) \\cdot W_o + b_o)\n",
    "$$\n",
    "\n",
    "where $\\sigma$ is the ReLu function."
   ]
  },
  {
   "cell_type": "markdown",
   "metadata": {},
   "source": [
    "7. **How many neurons do you need in the output layer if you want to\n",
    "classify email into spam or ham? What activation function should you\n",
    "use in the output layer? If instead you want to tackle MNIST, how many\n",
    "neurons do you need in the output layer, and which activation function\n",
    "should you use? What about for getting your network to predict housing\n",
    "prices, as in Chapter 2?**"
   ]
  },
  {
   "cell_type": "markdown",
   "metadata": {},
   "source": [
    "In the first scenario, where we want to classify spam or ham, we can use either a sigmoid function, since it outputs probabilities.\n",
    "\n",
    "In the case for the MNIST dataset, we would need 10 neuros in the output layer because we have 10 classes to predict. Accordingly, the recommended activation function is the softmax, because it outputs probabilities for all classes summed up to 1. \n",
    "\n",
    "Lastly, if we want to predict house prices, we would do better with a ReLu function, Since it behaves linearly for values of output greater than 0."
   ]
  },
  {
   "cell_type": "markdown",
   "metadata": {},
   "source": [
    "8. **What is backpropagation and how does it work? What is the difference\n",
    "between backpropagation and reverse-mode autodiff?**"
   ]
  },
  {
   "cell_type": "markdown",
   "metadata": {},
   "source": [
    "Backpropagation is a strategy developed to tweak all parameters (weights) of the neural network taking into account their contribution in the output error. It is done by computing the gradient of the error in the output layer, and propagating the gradient backwards in the network until it reaches the input layer using the chain rule to accomplish that, the it performs a gradient descent step. On the other hand, reverse-mode autodiff is just a technique to automatically and effiently compute gradients."
   ]
  },
  {
   "cell_type": "markdown",
   "metadata": {},
   "source": [
    "9. **Can you list all the hyperparameters you can tweak in a basic MLP? If\n",
    "the MLP overfits the training data, how could you tweak these\n",
    "hyperparameters to try to solve the problem?**"
   ]
  },
  {
   "cell_type": "markdown",
   "metadata": {},
   "source": [
    "The list of all hyperparameters one can tweak in a basic MLP is: The number of hidden layers, the number of neurons in each layer.\n",
    "\n",
    "If during training we identify that the network is overfitting the data, we could try to reduce the number of hidden layers, or the number of neurons in the hidden layer."
   ]
  },
  {
   "cell_type": "markdown",
   "metadata": {},
   "source": [
    "10. **Train a deep MLP on the MNIST dataset (you can load it using\n",
    "keras.datasets.mnist.load_data(). See if you can get over 98%\n",
    "precision. Try searching for the optimal learning rate by using the\n",
    "approach presented in this chapter (i.e., by growing the learning rate\n",
    "exponentially, plotting the error, and finding the point where the error\n",
    "shoots up). Try adding all the bells and whistles—save checkpoints, use\n",
    "early stopping, and plot learning curves using TensorBoard.**"
   ]
  },
  {
   "cell_type": "code",
   "execution_count": 40,
   "metadata": {},
   "outputs": [],
   "source": [
    "import matplotlib.pyplot as plt\n",
    "import tensorflow as tf\n",
    "from tensorflow import keras\n",
    "from keras import datasets"
   ]
  },
  {
   "cell_type": "code",
   "execution_count": 41,
   "metadata": {},
   "outputs": [],
   "source": [
    "import os\n",
    "root_logdir = os.path.join(os.curdir, \"my_logs\")\n",
    "\n",
    "def get_run_logdir():\n",
    "    import time\n",
    "    run_id = time.strftime(\"run_%Y_%m_%d-%H_%M_%S\")\n",
    "    return os.path.join(root_logdir, run_id)"
   ]
  },
  {
   "cell_type": "code",
   "execution_count": 42,
   "metadata": {},
   "outputs": [
    {
     "name": "stdout",
     "output_type": "stream",
     "text": [
      "(60000, 28, 28)\n",
      "(10000, 28, 28)\n"
     ]
    }
   ],
   "source": [
    "(x_train, y_train), (x_test, y_test) =  datasets.mnist.load_data()\n",
    "\n",
    "print(x_train.shape)\n",
    "print(x_test.shape)\n",
    "\n",
    "# create validation set\n",
    "x_valid, x_train = x_train[:5000] / 255.0, x_train[5000:] / 255.0\n",
    "y_valid, y_train = y_train[:5000], y_train[5000:]"
   ]
  },
  {
   "cell_type": "code",
   "execution_count": 43,
   "metadata": {},
   "outputs": [],
   "source": [
    "model = keras.models.Sequential([\n",
    "    keras.layers.Flatten(input_shape=[28, 28]),\n",
    "    keras.layers.Dense(300, activation=\"relu\"),\n",
    "    keras.layers.Dense(100, activation=\"relu\"),\n",
    "    keras.layers.Dense(10, activation=\"softmax\")\n",
    "])\n",
    "\n",
    "model.compile(loss=keras.losses.sparse_categorical_crossentropy,\n",
    "              optimizer=keras.optimizers.SGD(learning_rate=1e-3),\n",
    "              metrics=[\"accuracy\"])"
   ]
  },
  {
   "cell_type": "code",
   "execution_count": 44,
   "metadata": {},
   "outputs": [],
   "source": [
    "# a callback to grow the learning rate at each batch iteration\n",
    "\n",
    "K = keras.backend\n",
    "\n",
    "class ExponentialLearningRate(keras.callbacks.Callback):\n",
    "    def __init__(self, factor):\n",
    "        self.factor = factor\n",
    "        self.rates = []\n",
    "        self.losses = []\n",
    "    def on_batch_end(self, batch, logs):\n",
    "        self.rates.append(K.get_value(self.model.optimizer.learning_rate))\n",
    "        self.losses.append(logs[\"loss\"])\n",
    "        K.set_value(self.model.optimizer.learning_rate, \n",
    "                    self.model.optimizer.learning_rate * self.factor)"
   ]
  },
  {
   "cell_type": "code",
   "execution_count": 29,
   "metadata": {},
   "outputs": [],
   "source": [
    "keras.backend.clear_session()\n",
    "expon_lr = ExponentialLearningRate(factor=1.005)"
   ]
  },
  {
   "cell_type": "code",
   "execution_count": 45,
   "metadata": {
    "scrolled": false
   },
   "outputs": [
    {
     "name": "stdout",
     "output_type": "stream",
     "text": [
      "1719/1719 [==============================] - 4s 2ms/step - loss: 174093664664944640.0000 - accuracy: 0.6084 - val_loss: 3.3868 - val_accuracy: 0.0958\n"
     ]
    }
   ],
   "source": [
    "history = model.fit(x_train, y_train, epochs=1,\n",
    "                    validation_data=(x_valid, y_valid),\n",
    "                    callbacks=[expon_lr])"
   ]
  },
  {
   "cell_type": "code",
   "execution_count": 46,
   "metadata": {},
   "outputs": [
    {
     "data": {
      "text/plain": [
       "Text(0, 0.5, 'Loss')"
      ]
     },
     "execution_count": 46,
     "metadata": {},
     "output_type": "execute_result"
    },
    {
     "data": {
      "image/png": "[encoded data removed]",
      "text/plain": [
       "<Figure size 432x288 with 1 Axes>"
      ]
     },
     "metadata": {
      "needs_background": "light"
     },
     "output_type": "display_data"
    }
   ],
   "source": [
    "plt.plot(expon_lr.rates, expon_lr.losses)\n",
    "plt.gca().set_xscale('log')\n",
    "plt.hlines(min(expon_lr.losses), min(expon_lr.rates), max(expon_lr.rates))\n",
    "plt.axis([min(expon_lr.rates), max(expon_lr.rates), 0, expon_lr.losses[0]])\n",
    "plt.grid()\n",
    "plt.xlabel(\"Learning rate\")\n",
    "plt.ylabel(\"Loss\")"
   ]
  },
  {
   "cell_type": "markdown",
   "metadata": {},
   "source": [
    "The loss starts shooting back up violently when the learning rate goes over 6e-1, so let's try using half of that, at 3e-1:"
   ]
  },
  {
   "cell_type": "code",
   "execution_count": 47,
   "metadata": {},
   "outputs": [],
   "source": [
    "keras.backend.clear_session()\n",
    "\n",
    "model = keras.models.Sequential([\n",
    "    keras.layers.Flatten(input_shape=[28, 28]),\n",
    "    keras.layers.Dense(300, activation=\"relu\"),\n",
    "    keras.layers.Dense(100, activation=\"relu\"),\n",
    "    keras.layers.Dense(10, activation=\"softmax\")\n",
    "])\n",
    "\n",
    "model.compile(loss=keras.losses.sparse_categorical_crossentropy,\n",
    "              optimizer=keras.optimizers.SGD(learning_rate=3e-1),\n",
    "              metrics=[\"accuracy\"])"
   ]
  },
  {
   "cell_type": "code",
   "execution_count": 48,
   "metadata": {},
   "outputs": [],
   "source": [
    "checkpoint_cb = keras.callbacks.ModelCheckpoint(\"keras_mnist_model.h5\",\n",
    "                                                save_best_only=True)\n",
    "\n",
    "early_stopping_cb = keras.callbacks.EarlyStopping(patience=10, \n",
    "                                                  restore_best_weights=True)\n",
    "\n",
    "run_logdir = get_run_logdir() #\n",
    "tensorboard_cb = keras.callbacks.TensorBoard(run_logdir)"
   ]
  },
  {
   "cell_type": "code",
   "execution_count": 49,
   "metadata": {},
   "outputs": [
    {
     "name": "stdout",
     "output_type": "stream",
     "text": [
      "Epoch 1/100\n",
      "1719/1719 [==============================] - 3s 1ms/step - loss: 0.2308 - accuracy: 0.9279 - val_loss: 0.1038 - val_accuracy: 0.9676\n",
      "Epoch 2/100\n",
      "1719/1719 [==============================] - 3s 1ms/step - loss: 0.0953 - accuracy: 0.9709 - val_loss: 0.1042 - val_accuracy: 0.9664\n",
      "Epoch 3/100\n",
      "1719/1719 [==============================] - 2s 1ms/step - loss: 0.0655 - accuracy: 0.9792 - val_loss: 0.0930 - val_accuracy: 0.9754\n",
      "Epoch 4/100\n",
      "1719/1719 [==============================] - 2s 1ms/step - loss: 0.0482 - accuracy: 0.9850 - val_loss: 0.0788 - val_accuracy: 0.9784\n",
      "Epoch 5/100\n",
      "1719/1719 [==============================] - 2s 1ms/step - loss: 0.0366 - accuracy: 0.9879 - val_loss: 0.0808 - val_accuracy: 0.9790\n",
      "Epoch 6/100\n",
      "1719/1719 [==============================] - 3s 2ms/step - loss: 0.0277 - accuracy: 0.9913 - val_loss: 0.0689 - val_accuracy: 0.9826\n",
      "Epoch 7/100\n",
      "1719/1719 [==============================] - 2s 1ms/step - loss: 0.0215 - accuracy: 0.9930 - val_loss: 0.0772 - val_accuracy: 0.9826\n",
      "Epoch 8/100\n",
      "1719/1719 [==============================] - 3s 2ms/step - loss: 0.0209 - accuracy: 0.9934 - val_loss: 0.0886 - val_accuracy: 0.9776\n",
      "Epoch 9/100\n",
      "1719/1719 [==============================] - 3s 2ms/step - loss: 0.0164 - accuracy: 0.9947 - val_loss: 0.0761 - val_accuracy: 0.9816\n",
      "Epoch 10/100\n",
      "1719/1719 [==============================] - 3s 2ms/step - loss: 0.0098 - accuracy: 0.9967 - val_loss: 0.0902 - val_accuracy: 0.9798\n",
      "Epoch 11/100\n",
      "1719/1719 [==============================] - 3s 1ms/step - loss: 0.0105 - accuracy: 0.9968 - val_loss: 0.1025 - val_accuracy: 0.9796\n",
      "Epoch 12/100\n",
      "1719/1719 [==============================] - 3s 2ms/step - loss: 0.0127 - accuracy: 0.9959 - val_loss: 0.0810 - val_accuracy: 0.9820\n",
      "Epoch 13/100\n",
      "1719/1719 [==============================] - 3s 2ms/step - loss: 0.0083 - accuracy: 0.9974 - val_loss: 0.0874 - val_accuracy: 0.9826\n",
      "Epoch 14/100\n",
      "1719/1719 [==============================] - 3s 2ms/step - loss: 0.0041 - accuracy: 0.9989 - val_loss: 0.0856 - val_accuracy: 0.9832\n",
      "Epoch 15/100\n",
      "1719/1719 [==============================] - 3s 1ms/step - loss: 0.0024 - accuracy: 0.9994 - val_loss: 0.0871 - val_accuracy: 0.9840\n",
      "Epoch 16/100\n",
      "1719/1719 [==============================] - 3s 2ms/step - loss: 0.0018 - accuracy: 0.9994 - val_loss: 0.0842 - val_accuracy: 0.9834\n"
     ]
    }
   ],
   "source": [
    "history = model.fit(x_train, y_train, epochs=100,\n",
    "                    validation_data=(x_valid, y_valid),\n",
    "                    callbacks=[checkpoint_cb, early_stopping_cb, tensorboard_cb])"
   ]
  },
  {
   "cell_type": "code",
   "execution_count": 52,
   "metadata": {},
   "outputs": [
    {
     "name": "stdout",
     "output_type": "stream",
     "text": [
      "313/313 [==============================] - 0s 857us/step - loss: 17.7502 - accuracy: 0.9766\n"
     ]
    },
    {
     "data": {
      "text/plain": [
       "[17.750228881835938, 0.9765999913215637]"
      ]
     },
     "execution_count": 52,
     "metadata": {},
     "output_type": "execute_result"
    }
   ],
   "source": [
    "model = keras.models.load_model(\"keras_mnist_model.h5\") # rollback to best model\n",
    "model.evaluate(x_test, y_test)"
   ]
  },
  {
   "cell_type": "markdown",
   "metadata": {},
   "source": [
    "We got over 97.7% of accuracy in the test set, and 98.4% in the validation set."
   ]
  }
 ],
 "metadata": {
  "kernelspec": {
   "display_name": "Python 3",
   "language": "python",
   "name": "python3"
  },
  "language_info": {
   "codemirror_mode": {
    "name": "ipython",
    "version": 3
   },
   "file_extension": ".py",
   "mimetype": "text/x-python",
   "name": "python",
   "nbconvert_exporter": "python",
   "pygments_lexer": "ipython3",
   "version": "3.8.5"
  },
  "latex_envs": {
   "LaTeX_envs_menu_present": true,
   "autoclose": false,
   "autocomplete": true,
   "bibliofile": "biblio.bib",
   "cite_by": "apalike",
   "current_citInitial": 1,
   "eqLabelWithNumbers": true,
   "eqNumInitial": 1,
   "hotkeys": {
    "equation": "Ctrl-E",
    "itemize": "Ctrl-I"
   },
   "labels_anchors": false,
   "latex_user_defs": false,
   "report_style_numbering": false,
   "user_envs_cfg": false
  }
 },
 "nbformat": 4,
 "nbformat_minor": 4
}
