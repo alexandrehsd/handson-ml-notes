{
 "cells": [
  {
   "cell_type": "markdown",
   "id": "c8625c89",
   "metadata": {},
   "source": [
    "# Chapter 08 - Dimensionality Reduction"
   ]
  },
  {
   "cell_type": "markdown",
   "id": "47823a25",
   "metadata": {
    "heading_collapsed": true
   },
   "source": [
    "## The curse of dimensionality"
   ]
  },
  {
   "cell_type": "markdown",
   "id": "f126d125",
   "metadata": {
    "hidden": true
   },
   "source": [
    "high-dimensional datasets are at risk of being very sparse: most training instances are likely to be far away\n",
    "from each other because they are trapped in a high-dimensional space. This also means that a new instance will likely be far away from any training instance, making predictions much less reliable than in lower dimensions, since they will be based on much larger extrapolations. In short, the more dimensions the training set has, the greater the risk of overfitting it."
   ]
  },
  {
   "cell_type": "markdown",
   "id": "228eebe6",
   "metadata": {
    "heading_collapsed": true
   },
   "source": [
    "## Main Approaches for dimensionality Reduction"
   ]
  },
  {
   "cell_type": "markdown",
   "id": "b0a17456",
   "metadata": {
    "heading_collapsed": true,
    "hidden": true
   },
   "source": [
    "### Projection"
   ]
  },
  {
   "cell_type": "markdown",
   "id": "ea80278e",
   "metadata": {
    "hidden": true
   },
   "source": [
    "In most real-world problems, training instances are not spread out uniformly across all dimensions. Many features are almost constant, while others are highly correlated (as discussed earlier for MNIST). As a result, all training instances lie within (or close to) a much lower-dimensional subspace of the high-dimensional\n",
    "space."
   ]
  },
  {
   "cell_type": "markdown",
   "id": "5d4fd2f7",
   "metadata": {
    "heading_collapsed": true,
    "hidden": true
   },
   "source": [
    "### Manifold learning"
   ]
  },
  {
   "cell_type": "markdown",
   "id": "9e530776",
   "metadata": {
    "hidden": true
   },
   "source": [
    "Put simply, a 2D manifold is a 2D shape that can be bent and twisted in a higher-dimensional space. More\n",
    "generally, a d-dimensional manifold is a part of an n-dimensional space (where d < n) that locally resembles a d-dimensional hyperplane. In the case of the Swiss roll, d = 2 and n = 3: it locally resembles a 2D plane, but it is rolled in the third dimension.\n",
    "\n",
    "Many dimensionality reduction algorithms work by modeling the manifold on which the training instances lie; this is called Manifold Learning. It relies on the manifold assumption, also called the manifold hypothesis, which holds that most real-world high-dimensional datasets lie close to a much lower-dimensional manifold. This assumption is very often empirically observed.\n",
    "\n",
    "The manifold assumption is often accompanied by another implicit assumption: that the task at hand (e.g., classification or regression) will be simpler if expressed in the lower-dimensional space of the manifold."
   ]
  },
  {
   "cell_type": "markdown",
   "id": "b9f5ae7c",
   "metadata": {
    "heading_collapsed": true
   },
   "source": [
    "## PCA (Linear projections)"
   ]
  },
  {
   "cell_type": "markdown",
   "id": "7404740d",
   "metadata": {
    "heading_collapsed": true,
    "hidden": true
   },
   "source": [
    "### Vanilla PCA"
   ]
  },
  {
   "cell_type": "markdown",
   "id": "2f4d8f62",
   "metadata": {
    "hidden": true
   },
   "source": [
    "Principal Component Analysis (PCA) is by far the most popular dimensionality reduction algorithm. First it identifies the hyperplane that lies closest to the data, and then it projects the data onto it, just like in Figure 8-2 that lies below."
   ]
  },
  {
   "cell_type": "markdown",
   "id": "825ba491",
   "metadata": {
    "hidden": true
   },
   "source": [
    "To criteria to choose the right hyperplane is to select the projected hyperplane that preserves the maximum variance, as it will most likely lose less information than the other projections. \n",
    "Another way to justify this choice is that it is the axis that minimizes the mean squared distance between the original dataset and its projection onto that axis."
   ]
  },
  {
   "cell_type": "markdown",
   "id": "e5fb294d",
   "metadata": {
    "hidden": true
   },
   "source": [
    "PCA identifies the axis that accounts for the largest amount of variance in the training set. Then, it draws another axis, each perpendicular to all others in order to count for the remaining dimensions. The i-th axis is called the i-th principal component.\n",
    "\n",
    "To find the principal components, PCA uses the SVD matrix factorization technique that decomposes a matrix in $U \\Sigma V^T$, where $V$ contains the unit vectors that define all principal components that we are looking for. Also, note that the data must be centered around 0 mean to perform PCA."
   ]
  },
  {
   "cell_type": "code",
   "execution_count": 21,
   "id": "2039b566",
   "metadata": {
    "hidden": true
   },
   "outputs": [],
   "source": [
    "import numpy as np\n",
    "import matplotlib.pyplot as plt \n",
    "\n",
    "np.random.seed(4)\n",
    "m = 60\n",
    "w1, w2 = 0.1, 0.3\n",
    "noise = 0.1\n",
    "\n",
    "angles = np.random.rand(m) * 3 * np.pi / 2 - 0.5\n",
    "X = np.empty((m, 3))\n",
    "X[:, 0] = np.cos(angles) + np.sin(angles)/2 + noise * np.random.randn(m) / 2\n",
    "X[:, 1] = np.sin(angles) * 0.7 + noise * np.random.randn(m) / 2\n",
    "X[:, 2] = X[:, 0] * w1 + X[:, 1] * w2 + noise * np.random.randn(m)"
   ]
  },
  {
   "cell_type": "code",
   "execution_count": 22,
   "id": "b9fd73ed",
   "metadata": {
    "hidden": true
   },
   "outputs": [],
   "source": [
    "X_centered = X - X.mean(axis=0)\n",
    "U, s, Vt = np.linalg.svd(X_centered)\n",
    "c1 = Vt.T[:, 0]\n",
    "c2 = Vt.T[:, 1]"
   ]
  },
  {
   "cell_type": "code",
   "execution_count": 23,
   "id": "d3b7848e",
   "metadata": {
    "hidden": true
   },
   "outputs": [],
   "source": [
    "from sklearn.decomposition import PCA\n",
    "\n",
    "pca = PCA(n_components=2)\n",
    "X2D = pca.fit_transform(X)"
   ]
  },
  {
   "cell_type": "code",
   "execution_count": 24,
   "id": "76706ad1",
   "metadata": {
    "hidden": true
   },
   "outputs": [],
   "source": [
    "X3D_inv = pca.inverse_transform(X2D)"
   ]
  },
  {
   "cell_type": "code",
   "execution_count": 25,
   "id": "80332598",
   "metadata": {
    "hidden": true
   },
   "outputs": [],
   "source": [
    "from matplotlib.patches import FancyArrowPatch\n",
    "from mpl_toolkits.mplot3d import proj3d\n",
    "\n",
    "class Arrow3D(FancyArrowPatch):\n",
    "    def __init__(self, xs, ys, zs, *args, **kwargs):\n",
    "        FancyArrowPatch.__init__(self, (0,0), (0,0), *args, **kwargs)\n",
    "        self._verts3d = xs, ys, zs\n",
    "\n",
    "    def draw(self, renderer):\n",
    "        xs3d, ys3d, zs3d = self._verts3d\n",
    "        xs, ys, zs = proj3d.proj_transform(xs3d, ys3d, zs3d, renderer.M)\n",
    "        self.set_positions((xs[0],ys[0]),(xs[1],ys[1]))\n",
    "        FancyArrowPatch.draw(self, renderer)\n",
    "        \n",
    "axes = [-1.8, 1.8, -1.3, 1.3, -1.0, 1.0]\n",
    "\n",
    "x1s = np.linspace(axes[0], axes[1], 10)\n",
    "x2s = np.linspace(axes[2], axes[3], 10)\n",
    "x1, x2 = np.meshgrid(x1s, x2s)\n",
    "\n",
    "C = pca.components_\n",
    "R = C.T.dot(C)\n",
    "z = (R[0, 2] * x1 + R[1, 2] * x2) / (1 - R[2, 2])"
   ]
  },
  {
   "cell_type": "code",
   "execution_count": 26,
   "id": "fbd75564",
   "metadata": {
    "hidden": true
   },
   "outputs": [
    {
     "data": {
      "image/png": "[encoded data removed]",
      "text/plain": [
       "<Figure size 432x273.6 with 1 Axes>"
      ]
     },
     "metadata": {
      "needs_background": "light"
     },
     "output_type": "display_data"
    }
   ],
   "source": [
    "from mpl_toolkits.mplot3d import Axes3D\n",
    "\n",
    "fig = plt.figure(figsize=(6, 3.8))\n",
    "ax = fig.add_subplot(111, projection='3d')\n",
    "\n",
    "X3D_above = X[X[:, 2] > X3D_inv[:, 2]]\n",
    "X3D_below = X[X[:, 2] <= X3D_inv[:, 2]]\n",
    "\n",
    "ax.plot(X3D_below[:, 0], X3D_below[:, 1], X3D_below[:, 2], \"bo\", alpha=0.5)\n",
    "\n",
    "ax.plot_surface(x1, x2, z, alpha=0.2, color=\"k\")\n",
    "np.linalg.norm(C, axis=0)\n",
    "ax.add_artist(Arrow3D([0, C[0, 0]],[0, C[0, 1]],[0, C[0, 2]], mutation_scale=15, lw=1, arrowstyle=\"-|>\", color=\"k\"))\n",
    "ax.add_artist(Arrow3D([0, C[1, 0]],[0, C[1, 1]],[0, C[1, 2]], mutation_scale=15, lw=1, arrowstyle=\"-|>\", color=\"k\"))\n",
    "ax.plot([0], [0], [0], \"k.\")\n",
    "\n",
    "for i in range(m):\n",
    "    if X[i, 2] > X3D_inv[i, 2]:\n",
    "        ax.plot([X[i][0], X3D_inv[i][0]], [X[i][1], X3D_inv[i][1]], [X[i][2], X3D_inv[i][2]], \"k-\")\n",
    "    else:\n",
    "        ax.plot([X[i][0], X3D_inv[i][0]], [X[i][1], X3D_inv[i][1]], [X[i][2], X3D_inv[i][2]], \"k-\", color=\"#505050\")\n",
    "    \n",
    "ax.plot(X3D_inv[:, 0], X3D_inv[:, 1], X3D_inv[:, 2], \"k+\")\n",
    "ax.plot(X3D_inv[:, 0], X3D_inv[:, 1], X3D_inv[:, 2], \"k.\")\n",
    "ax.plot(X3D_above[:, 0], X3D_above[:, 1], X3D_above[:, 2], \"bo\")\n",
    "ax.set_xlabel(\"$x_1$\", fontsize=18, labelpad=10)\n",
    "ax.set_ylabel(\"$x_2$\", fontsize=18, labelpad=10)\n",
    "ax.set_zlabel(\"$x_3$\", fontsize=18, labelpad=10)\n",
    "ax.set_xlim(axes[0:2])\n",
    "ax.set_ylim(axes[2:4])\n",
    "ax.set_zlim(axes[4:6])\n",
    "\n",
    "# Note: If you are using Matplotlib 3.0.0, it has a bug and does not\n",
    "# display 3D graphs properly.\n",
    "# See https://github.com/matplotlib/matplotlib/issues/12239\n",
    "# You should upgrade to a later version. If you cannot, then you can\n",
    "# use the following workaround before displaying each 3D graph:\n",
    "# for spine in ax.spines.values():\n",
    "#     spine.set_visible(False)\n",
    "\n",
    "# save_fig(\"dataset_3d_plot\")\n",
    "plt.show()"
   ]
  },
  {
   "cell_type": "markdown",
   "id": "9738ea3f",
   "metadata": {
    "heading_collapsed": true,
    "hidden": true
   },
   "source": [
    "#### Projecting down to d dimensions"
   ]
  },
  {
   "cell_type": "markdown",
   "id": "f4e3995b",
   "metadata": {
    "hidden": true
   },
   "source": [
    "To project the training set onto the hyperplane and obtain a reduced dataset $X_{d-proj}$\n",
    "of dimensionality d, compute the matrix multiplication of the training set\n",
    "matrix X by the matrix $W_d$, defined as the matrix containing the first d columns\n",
    "of V, as shown in Equation 8-2 below."
   ]
  },
  {
   "cell_type": "markdown",
   "id": "28e7d655",
   "metadata": {
    "hidden": true
   },
   "source": [
    "$$X_{d-proj} = X W_d$$"
   ]
  },
  {
   "cell_type": "code",
   "execution_count": 27,
   "id": "4ada0dc8",
   "metadata": {
    "hidden": true
   },
   "outputs": [],
   "source": [
    "W2 = Vt.T[:, :2]\n",
    "X2D = X_centered.dot(W2)"
   ]
  },
  {
   "cell_type": "markdown",
   "id": "0c6f3a35",
   "metadata": {
    "hidden": true
   },
   "source": [
    "Note that this is the same as calling  \n",
    "\n",
    "```\n",
    "pca = PCA(n_components=2)\n",
    "X2D = pca.fit_transform(X)\n",
    "``` \n",
    "\n",
    "As we did before. That's because scikit-learn also used SVD decomposition to compute the PCA."
   ]
  },
  {
   "cell_type": "markdown",
   "id": "8469159b",
   "metadata": {
    "heading_collapsed": true,
    "hidden": true
   },
   "source": [
    "#### Explained Variance Ratio"
   ]
  },
  {
   "cell_type": "markdown",
   "id": "c994f7d9",
   "metadata": {
    "hidden": true
   },
   "source": [
    "Another useful piece of information is the explained variance ratio of each principal component, available via the *explained_variance_ratio_* variable. The ratio indicates the proportion of the dataset’s variance that lies along each principal component. For example, let’s look at the explained variance:"
   ]
  },
  {
   "cell_type": "code",
   "execution_count": 28,
   "id": "f7429704",
   "metadata": {
    "hidden": true
   },
   "outputs": [],
   "source": [
    "explained_var = pca.explained_variance_ratio_"
   ]
  },
  {
   "cell_type": "code",
   "execution_count": 29,
   "id": "457cf79c",
   "metadata": {
    "hidden": true
   },
   "outputs": [
    {
     "data": {
      "text/plain": [
       "0.988804464429311"
      ]
     },
     "execution_count": 29,
     "metadata": {},
     "output_type": "execute_result"
    }
   ],
   "source": [
    "sum(explained_var)"
   ]
  },
  {
   "cell_type": "markdown",
   "id": "c4d5e8e5",
   "metadata": {
    "hidden": true
   },
   "source": [
    "This indicates the reducing the dataset down to 2 dimensions kept 98.888% percent of information. Therefore, the third axis does not hold much variance."
   ]
  },
  {
   "cell_type": "markdown",
   "id": "4a431076",
   "metadata": {
    "heading_collapsed": true,
    "hidden": true
   },
   "source": [
    "#### Choosing the right number of dimensions"
   ]
  },
  {
   "cell_type": "markdown",
   "id": "29c89a0f",
   "metadata": {
    "hidden": true
   },
   "source": [
    "There are some ways to choose the right number of dimensions. We could set a threshold over the explained variance ratio vector, and only consider the number of dimensions equivalent to 95% percent of all variation in the data:"
   ]
  },
  {
   "cell_type": "code",
   "execution_count": 30,
   "id": "af10f05c",
   "metadata": {
    "hidden": true
   },
   "outputs": [],
   "source": [
    "# pca = PCA()\n",
    "# pca.fit(X_train)\n",
    "# cumsum = np.cumsum(pca.explained_variance_ratio_)\n",
    "# d = np.argmax(cumsum >= 0.95) + 1"
   ]
  },
  {
   "cell_type": "markdown",
   "id": "57469049",
   "metadata": {
    "hidden": true
   },
   "source": [
    "Or we could simply pass a float to scikit-learn *PCA()*, and it will understand that we want to projecting down to the number of dimensions needed to achieve such explained variance:"
   ]
  },
  {
   "cell_type": "code",
   "execution_count": 31,
   "id": "069e4005",
   "metadata": {
    "hidden": true
   },
   "outputs": [],
   "source": [
    "# pca = PCA(n_components=0.95)\n",
    "# X_reduced = pca.fit_transform(X_train)"
   ]
  },
  {
   "cell_type": "markdown",
   "id": "66daa40d",
   "metadata": {
    "hidden": true
   },
   "source": [
    "Moreover, we also plot the number of dimensions vs the explained variance accumulated sum, and look for an elbow in the graph indicating that from that point, the explained variance remains approximately constant as the number of dimensions increases."
   ]
  },
  {
   "cell_type": "markdown",
   "id": "9189ba8e",
   "metadata": {
    "heading_collapsed": true,
    "hidden": true
   },
   "source": [
    "### PCA for compression"
   ]
  },
  {
   "cell_type": "markdown",
   "id": "8ebacbbd",
   "metadata": {
    "hidden": true
   },
   "source": [
    "It is possible to use PCA for data compression. By doing so, we are capable to reduce the number of features in a dataset and consequently speed up training and save storage. On the other hand, we can apply PCA to compress a dataset and also decompress it. Of course, since the compression throws away some information about the data, the decompression won't give us exactly the original data. However, the results might still be pretty good.\n",
    "\n",
    "The following code compresses the MNIST dataset down to 154 dimensions, then uses the inverse_transform() method to decompress it back to 784 dimensions:"
   ]
  },
  {
   "cell_type": "code",
   "execution_count": 32,
   "id": "cc7cee5b",
   "metadata": {
    "hidden": true
   },
   "outputs": [],
   "source": [
    "# pca = PCA(n_components = 154)\n",
    "# X_reduced = pca.fit_transform(X_train)\n",
    "# X_recovered = pca.inverse_transform(X_reduced)"
   ]
  },
  {
   "cell_type": "markdown",
   "id": "d4425ac7",
   "metadata": {
    "hidden": true
   },
   "source": [
    "The equation of the inverse transformation is shown in Equation 8-3:"
   ]
  },
  {
   "cell_type": "markdown",
   "id": "cbf78e72",
   "metadata": {
    "hidden": true
   },
   "source": [
    "$$X_{recovered} = X_{d-proj}W_d^T$$"
   ]
  },
  {
   "cell_type": "markdown",
   "id": "ea847142",
   "metadata": {
    "hidden": true
   },
   "source": [
    "The mean squared distance between the original data and the reconstructed data (compressed and then decompressed) is called the reconstruction error."
   ]
  },
  {
   "cell_type": "markdown",
   "id": "6165ca05",
   "metadata": {
    "heading_collapsed": true,
    "hidden": true
   },
   "source": [
    "### Randomized PCA"
   ]
  },
  {
   "cell_type": "markdown",
   "id": "acd794b0",
   "metadata": {
    "hidden": true
   },
   "source": [
    "Scikit-learn let us choose which derivation from the PCA technique we want to choose provided at the argument *svd_solver*. Passing \"randomized\" as the argument, we allow the API to use an stochastic algorithm called Randomized PCA that quickly finds an approximation of the first d principal components. Its computational complexity is $O(m × d^2) + O(d^2)$, instead of $O(m × n^2) + O(n^2)$ for the full SVD approach, so\n",
    "it is dramatically faster than full SVD when d is much smaller than n:"
   ]
  },
  {
   "cell_type": "code",
   "execution_count": 33,
   "id": "2b4e9271",
   "metadata": {
    "hidden": true
   },
   "outputs": [],
   "source": [
    "# rnd_pca = PCA(n_components=154, svd_solver=\"randomized\")\n",
    "# X_reduced = rnd_pca.fit_transform(X_train)"
   ]
  },
  {
   "cell_type": "markdown",
   "id": "5d1875de",
   "metadata": {
    "hidden": true
   },
   "source": [
    "By default, svd_solver is actually set to \"auto\": Scikit-Learn automatically uses the randomized PCA algorithm if m or n is greater than 500 and d is less than 80% of m or n, or else it uses the full SVD approach. If you want to force Scikit-Learn to use full SVD, you can set the svd_solver hyperparameter to \"full\"."
   ]
  },
  {
   "cell_type": "markdown",
   "id": "b00ec742",
   "metadata": {
    "heading_collapsed": true,
    "hidden": true
   },
   "source": [
    "### Incremental PCA"
   ]
  },
  {
   "cell_type": "markdown",
   "id": "2743cc2f",
   "metadata": {
    "hidden": true
   },
   "source": [
    "One huge disadvantage of PCA is that we need to feed the whole data to the PCA function. Fortunately, *Incremental PCA (IPCA)* algorithms have been developed. They allow us to feed part of the data into the PCA algorithm such that we can use it iteratively to train PCA on the fly:"
   ]
  },
  {
   "cell_type": "markdown",
   "id": "740cc918",
   "metadata": {
    "hidden": true
   },
   "source": [
    "The following code splits the MNIST dataset into 100 mini-batches (using NumPy’s array_split() function) and feeds them to Scikit-Learn’s *IncrementalPCA* class to reduce the dimensionality of the MNIST dataset down to 154 dimensions (just like before). Note that you must call the *partial_fit()* method with each mini-batch, rather than the *fit()* method with the whole training set:"
   ]
  },
  {
   "cell_type": "code",
   "execution_count": 34,
   "id": "3c4e5a60",
   "metadata": {
    "hidden": true
   },
   "outputs": [],
   "source": [
    "# from sklearn.decomposition import IncrementalPCA\n",
    "\n",
    "# n_batches = 100\n",
    "# inc_pca = IncrementalPCA(n_components=154)\n",
    "\n",
    "# for X_batch in np.array_split(X_train, n_batches):\n",
    "#   inc_pca.partial_fit(X_batch)\n",
    "#   X_reduced = inc_pca.transform(X_train)"
   ]
  },
  {
   "cell_type": "markdown",
   "id": "7ee680aa",
   "metadata": {
    "heading_collapsed": true
   },
   "source": [
    "## Kernel PCA (Nonlinear projections)"
   ]
  },
  {
   "cell_type": "markdown",
   "id": "45ff491c",
   "metadata": {
    "hidden": true
   },
   "source": [
    "In Chapter 5 we discussed the kernel trick, a mathematical technique that implicitly maps instances into a very high-dimensional space (called the feature space), enabling nonlinear classification and regression with Support Vector Machines. Recall that a linear decision boundary in the high-dimensional feature space corresponds to a complex nonlinear decision boundary in the original space.\n",
    "\n",
    "It turns out that the same trick can be applied to PCA, making it possible to perform complex nonlinear projections for dimensionality reduction. This is called Kernel PCA (kPCA). It is often good at preserving clusters of instances after projection, or sometimes even unrolling datasets that lie close to a twisted\n",
    "manifold."
   ]
  },
  {
   "cell_type": "markdown",
   "id": "d1b91b6e",
   "metadata": {
    "hidden": true
   },
   "source": [
    "The idea here is quite the same, this technique is call *Kernel PCA (kPCA)*, and we can use Scikit-Learn's *KernelPCA* class to perform kPCA "
   ]
  },
  {
   "cell_type": "code",
   "execution_count": 35,
   "id": "fcbdf03f",
   "metadata": {
    "hidden": true
   },
   "outputs": [],
   "source": [
    "# from sklearn.decomposition import KernelPCA\n",
    "\n",
    "# rbf_pca = KernelPCA(n_components = 2, kernel=\"rbf\", gamma=0.04)\n",
    "# X_reduced = rbf_pca.fit_transform(X)"
   ]
  },
  {
   "cell_type": "markdown",
   "id": "d104790f",
   "metadata": {
    "hidden": true
   },
   "source": [
    "It is often good at preserving clusters of instances after projection, or sometimes even unrolling datasets that lie close to a twisted manifold."
   ]
  },
  {
   "cell_type": "markdown",
   "id": "e68d78b7",
   "metadata": {
    "heading_collapsed": true,
    "hidden": true
   },
   "source": [
    "### Selecting a Kernel and Tuning Hyperparameters"
   ]
  },
  {
   "cell_type": "markdown",
   "id": "98517678",
   "metadata": {
    "hidden": true
   },
   "source": [
    "Selecting a kernel and the best parameters is no trivial task. However, keep in mind that often, dimensionality reduction is just a preparation step to another task (classification, regression). In such cases, we can play with the parameters by doing a Grid Search CV over the parameters of kPCA in order to maximize a chosen metrics, such as accuracy."
   ]
  },
  {
   "cell_type": "code",
   "execution_count": 36,
   "id": "f46a1e0d",
   "metadata": {
    "hidden": true
   },
   "outputs": [
    {
     "ename": "NameError",
     "evalue": "name 'KernelPCA' is not defined",
     "output_type": "error",
     "traceback": [
      "\u001b[0;31m---------------------------------------------------------------------------\u001b[0m",
      "\u001b[0;31mNameError\u001b[0m                                 Traceback (most recent call last)",
      "\u001b[0;32m<ipython-input-36-51dad3b1aaea>\u001b[0m in \u001b[0;36m<module>\u001b[0;34m\u001b[0m\n\u001b[1;32m      4\u001b[0m \u001b[0;34m\u001b[0m\u001b[0m\n\u001b[1;32m      5\u001b[0m clf = Pipeline([\n\u001b[0;32m----> 6\u001b[0;31m   \u001b[0;34m(\u001b[0m\u001b[0;34m\"kpca\"\u001b[0m\u001b[0;34m,\u001b[0m \u001b[0mKernelPCA\u001b[0m\u001b[0;34m(\u001b[0m\u001b[0mn_components\u001b[0m\u001b[0;34m=\u001b[0m\u001b[0;36m2\u001b[0m\u001b[0;34m)\u001b[0m\u001b[0;34m)\u001b[0m\u001b[0;34m,\u001b[0m\u001b[0;34m\u001b[0m\u001b[0;34m\u001b[0m\u001b[0m\n\u001b[0m\u001b[1;32m      7\u001b[0m   \u001b[0;34m(\u001b[0m\u001b[0;34m\"log_reg\"\u001b[0m\u001b[0;34m,\u001b[0m \u001b[0mLogisticRegression\u001b[0m\u001b[0;34m(\u001b[0m\u001b[0;34m)\u001b[0m\u001b[0;34m)\u001b[0m\u001b[0;34m\u001b[0m\u001b[0;34m\u001b[0m\u001b[0m\n\u001b[1;32m      8\u001b[0m ])\n",
      "\u001b[0;31mNameError\u001b[0m: name 'KernelPCA' is not defined"
     ]
    }
   ],
   "source": [
    "from sklearn.model_selection import GridSearchCV\n",
    "from sklearn.linear_model import LogisticRegression\n",
    "from sklearn.pipeline import Pipeline\n",
    "\n",
    "clf = Pipeline([\n",
    "  (\"kpca\", KernelPCA(n_components=2)),\n",
    "  (\"log_reg\", LogisticRegression())\n",
    "])\n",
    "\n",
    "param_grid = [{\n",
    "  \"kpca__gamma\": np.linspace(0.03, 0.05, 10),\n",
    "  \"kpca__kernel\": [\"rbf\", \"sigmoid\"]\n",
    "}]\n",
    "\n",
    "grid_search = GridSearchCV(clf, param_grid, cv=3)\n",
    "grid_search.fit(X, y)"
   ]
  },
  {
   "cell_type": "markdown",
   "id": "d3868942",
   "metadata": {
    "hidden": true
   },
   "source": [
    "The best kernel and hyperparameters are then available through the *best_params_* variable: `grid_search.best_params_`."
   ]
  },
  {
   "cell_type": "markdown",
   "id": "5a85e877",
   "metadata": {
    "hidden": true
   },
   "source": [
    "Another Another approach, this time entirely unsupervised, is to select the kernel and\n",
    "hyperparameters that yield the lowest reconstruction error. Since we are talking about kPCA, the reconstruction is not as easy as for the linear PCA (standard PCA), beyond the dimensionality reduction, we also have a feature map step because of the kernel transformation.\n",
    "\n",
    "Notice that if we could invert the linear PCA step for a given instance in the reduced space, the reconstructed point would lie in feature space, not in the original space. Since the feature space is infinite-dimensional, we cannot compute the reconstructed point, and therefore we cannot compute the true reconstruction error. Fortunately, it is possible to find a point in the original space that would map close to the reconstructed point. This point is called the reconstruction pre-image. Once you have this pre-image, you can measure its squared distance to the original instance. You can then select the kernel and hyperparameters that minimize this reconstruction pre-image error."
   ]
  },
  {
   "cell_type": "markdown",
   "id": "fdaa3a0b",
   "metadata": {
    "hidden": true
   },
   "source": [
    "You may be wondering how to perform this reconstruction. One solution is to train a supervised regression model, with the projected instances as the training set and the original instances as the targets. Scikit-Learn will do this automatically if you set *fit_inverse_transform=True*, as shown in the following code:"
   ]
  },
  {
   "cell_type": "code",
   "execution_count": null,
   "id": "a31aaa2a",
   "metadata": {
    "hidden": true
   },
   "outputs": [],
   "source": [
    "rbf_pca = KernelPCA(n_components = 2, kernel=\"rbf\", gamma=0.0433, fit_inverse_transform=True)\n",
    "\n",
    "X_reduced = rbf_pca.fit_transform(X)\n",
    "X_preimage = rbf_pca.inverse_transform(X_reduced)"
   ]
  },
  {
   "cell_type": "code",
   "execution_count": null,
   "id": "fe9b6f0a",
   "metadata": {
    "hidden": true
   },
   "outputs": [],
   "source": [
    "from sklearn.metrics import mean_squared_error\n",
    "\n",
    "mean_squared_error(X, X_preimage)"
   ]
  },
  {
   "cell_type": "markdown",
   "id": "2562a4c7",
   "metadata": {
    "hidden": true
   },
   "source": [
    "Now you can use grid search with cross-validation to find the kernel and hyperparameters that minimize this error."
   ]
  },
  {
   "cell_type": "markdown",
   "id": "01d118cb",
   "metadata": {
    "heading_collapsed": true
   },
   "source": [
    "## LLE"
   ]
  },
  {
   "cell_type": "markdown",
   "id": "f9d58e31",
   "metadata": {
    "hidden": true
   },
   "source": [
    "Until this point, we have only learned about dimensionality reduction techniques based on projection. Locally Linear Embedding is a powerful nonlinear dimensionality reduction technique. It is a Manifold Learning technique that does not rely on projections, like the previous algorithms do. In a nutshell, LLE works by first measuring how each training instance linearly relates to its closest neighbors (c.n.), and then looking for a low-dimensional representation of the training set where these local relationships are best preserved (more details\n",
    "shortly). This approach makes it particularly good at unrolling twisted manifolds, especially when there is not too much noise.\n",
    "\n",
    "Here’s how LLE works: for each training instance $x^{(i)}$, the algorithm identifies its k closest neighbors (in the preceding code k = 10), then tries to reconstruct $x^{(i)}$ as a linear function of these neighbors. More specifically, it finds the weights $w_{i, j}$ s.t. the squared distance between $x^{(i)}$ and $\\sum_{j=1}^m w_{i, j}x^{(j)}$ is as small as possible, assuming $w_{i, j} = 0$ if $x^{(j)}$ is not one of the k closest neighbors of $x^{(i)}$.\n",
    "\n",
    "$$\n",
    "\\hat{W} = argmin_W \\sum_{i=1}^m (x^{(i)} - \\sum_{j=1}^m w_{i,j}x^{(j)})^2\n",
    "$$\n",
    "\n",
    "\n",
    "After this step, the weight matrix $\\hat{W}$ (containing the weights $\\hat{w}_{i,j}$) encodes the\n",
    "local linear relationships between the training instances. The second step is to map the training instances into a d-dimensional space (where d < n) while preserving these local relationships as much as possible. If $z^{(i)}$ is the image of $x^{(i)}$ in this d-dimensional space, then we want the squared distance between $z^{(i)}$ and $\\sum_{j=1}^m \\hat{w}_{i, j}z^{(j)}$ to be as small as possible. This idea leads to the unconstrained\n",
    "optimization problem described in Equation 8-5. It looks very similar to the first step, but instead of keeping the instances fixed and finding the optimal weights, we are doing the reverse: keeping the weights fixed and finding the optimal position of the instances’ images in the low-dimensional space.\n",
    "\n",
    "$$\n",
    "\\hat{Z} = argmin_Z \\sum_{i=1}^m (z^{(i)} - \\sum_{j=1}^m \\hat{w}_{i,j}z^{(j)})^2\n",
    "$$\n",
    "\n",
    "Scikit-Learn’s LLE implementation has the following computational complexity:\n",
    "$O(m log(m)n log(k))$ for finding the k nearest neighbors, $O(mnk^2)$ for optimizing\n",
    "the weights, and $O(dm^2)$ for constructing the low-dimensional representations.\n",
    "Unfortunately, the $m^2$ in the last term makes this algorithm scale poorly to very\n",
    "large datasets."
   ]
  },
  {
   "cell_type": "code",
   "execution_count": null,
   "id": "20f62167",
   "metadata": {
    "hidden": true
   },
   "outputs": [],
   "source": [
    "# from sklearn.manifold import LocallyLinearEmbedding\n",
    "\n",
    "# lle = LocallyLinearEmbedding(n_components=2, n_neighbors=10)\n",
    "# X_reduced = lle.fit_transform(X)"
   ]
  },
  {
   "cell_type": "markdown",
   "id": "3bd2dfe1",
   "metadata": {
    "heading_collapsed": true
   },
   "source": [
    "## Other dimensionality reduction techniques"
   ]
  },
  {
   "cell_type": "markdown",
   "id": "9a2862da",
   "metadata": {
    "heading_collapsed": true,
    "hidden": true
   },
   "source": [
    "### Random Projections"
   ]
  },
  {
   "cell_type": "markdown",
   "id": "ae691a98",
   "metadata": {
    "hidden": true
   },
   "source": [
    "As its name suggests, projects the data to a lower-dimensional space using a random linear projection. This may sound crazy, but it turns out that such a random projection is actually very likely to preserve distances well, as was demonstrated mathematically by William B. Johnson and Joram Lindenstrauss in a famous lemma. The quality of the dimensionality reduction depends on the number of instances and the target dimensionality, but surprisingly not on the initial dimensionality. Check out the documentation for the *sklearn.random_projection* package for more details."
   ]
  },
  {
   "cell_type": "markdown",
   "id": "32aeca27",
   "metadata": {
    "heading_collapsed": true,
    "hidden": true
   },
   "source": [
    "### Multidimensional Scaling (MDS)"
   ]
  },
  {
   "cell_type": "markdown",
   "id": "435fbd60",
   "metadata": {
    "hidden": true
   },
   "source": [
    "Reduces dimensionality while trying to preserve the distances between the instances."
   ]
  },
  {
   "cell_type": "markdown",
   "id": "e3e62d40",
   "metadata": {
    "heading_collapsed": true,
    "hidden": true
   },
   "source": [
    "### Isomap"
   ]
  },
  {
   "cell_type": "markdown",
   "id": "3d9bdf04",
   "metadata": {
    "hidden": true
   },
   "source": [
    "Creates a graph by connecting each instance to its nearest neighbors, then reduces dimensionality while trying to preserve the geodesic distances between the instances.\n",
    "\n",
    "The geodesic distance between two nodes in a graph is the number of nodes on the shortest path between these nodes."
   ]
  },
  {
   "cell_type": "markdown",
   "id": "01643370",
   "metadata": {
    "heading_collapsed": true,
    "hidden": true
   },
   "source": [
    "### t-Distributed Stochastic Neighbor Embedding (t-SNE)"
   ]
  },
  {
   "cell_type": "markdown",
   "id": "bb6f5df5",
   "metadata": {
    "hidden": true
   },
   "source": [
    "Reduces dimensionality while trying to keep similar instances close and dissimilar instances apart. It is mostly used for visualization, in particular to visualize clusters of instances in high-dimensional space (e.g., to visualize the MNIST images in 2D)."
   ]
  },
  {
   "cell_type": "markdown",
   "id": "03854d16",
   "metadata": {
    "heading_collapsed": true,
    "hidden": true
   },
   "source": [
    "### Linear Discriminant Analysis (LDA)"
   ]
  },
  {
   "cell_type": "markdown",
   "id": "406a6b45",
   "metadata": {
    "hidden": true
   },
   "source": [
    "Is a classification algorithm, but during training it learns the most discriminative axes between the classes, and these axes can then be used to define a hyperplane onto which to project the data. The benefit of this approach is that the projection will keep classes as far apart as possible, so LDA is a good technique to reduce dimensionality before running another classification algorithm such as an SVM classifier."
   ]
  }
 ],
 "metadata": {
  "kernelspec": {
   "display_name": "Python 3",
   "language": "python",
   "name": "python3"
  },
  "language_info": {
   "codemirror_mode": {
    "name": "ipython",
    "version": 3
   },
   "file_extension": ".py",
   "mimetype": "text/x-python",
   "name": "python",
   "nbconvert_exporter": "python",
   "pygments_lexer": "ipython3",
   "version": "3.8.8"
  },
  "latex_envs": {
   "LaTeX_envs_menu_present": true,
   "autoclose": false,
   "autocomplete": true,
   "bibliofile": "biblio.bib",
   "cite_by": "apalike",
   "current_citInitial": 1,
   "eqLabelWithNumbers": true,
   "eqNumInitial": 1,
   "hotkeys": {
    "equation": "Ctrl-E",
    "itemize": "Ctrl-I"
   },
   "labels_anchors": false,
   "latex_user_defs": false,
   "report_style_numbering": false,
   "user_envs_cfg": false
  }
 },
 "nbformat": 4,
 "nbformat_minor": 5
}
